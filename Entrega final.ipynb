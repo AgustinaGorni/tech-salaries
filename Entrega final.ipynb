{
 "cells": [
  {
   "cell_type": "markdown",
   "id": "2a1ea87b-faa9-4b00-a8ee-555cf4694c6e",
   "metadata": {},
   "source": [
    "# Entrega final\n",
    "\n",
    "**(Se requiere el notebook \"Análisis de sueldos\" resuelto)**"
   ]
  },
  {
   "cell_type": "markdown",
   "id": "d4975286-13ed-4cf9-b9a4-d85273f6f253",
   "metadata": {},
   "source": [
    "En base a los resultados obtenidos en *\"Análisis de sueldos\"* confeccionar conclusiones respecto a:\n",
    "\n",
    "- Rol vs sueldos\n",
    "- Nivel de educación alcanzada vs sueldos\n",
    "- Género vs sueldos\n",
    "- Tecnologías populares"
   ]
  },
  {
   "cell_type": "raw",
   "id": "bce16cd7",
   "metadata": {},
   "source": [
    "El rol de ingeniero infraestructuras de virtualizacion percibe una media salarial 1145 veces mayor que la media del sector,\n",
    "mientras que el rol de Salesforce Admin/Developer percibe una media salarial 28 veces menor que la media del sector.\n",
    "\n",
    "Los participantes con nivel Posdoctorado perciben una media salarial 1.43 veces mayor que la media del sector,\n",
    "mientras que los que listaron Secundario como su máximo nivel educativo alcanzado, perciben una media salarial \n",
    "aún más cercana a la media del sector (La diferencia es de 1.099) \n",
    "\n",
    "Quienes se identifican como Varón Trans perciben una media salarial similar a la media del sector. La relación es de 1.21\n",
    "Mientras que quienes se identifican como Mujer Trans percibe una media salarial 1.47 veces menor que la media del sector. \n",
    "La diferencia entre  estos dos grupos es de 1.78\n",
    "\n",
    "El lenguaje de programación más popular es xquery, quienes la utilizan perciben una media salarial de 10774830.0, \n",
    "apenas por debajo de la media del sector. Sin embargo, los lenguajes con una media salarial más alta (combinados) \n",
    "son PHP, Python, Ruby, con una media salarial 12111231 veces mayor a la media del sector."
   ]
  },
  {
   "cell_type": "markdown",
   "id": "9dee1c42-e2ff-47fb-b892-9aa835c47e4d",
   "metadata": {},
   "source": [
    "Generar gráficos de barra para mostrar los resultados mencionados anteriormente usando strings, ej:\n",
    "\n",
    "```\n",
    "developer | -----------------------------------------------\n",
    "sysadmin  | ---------------------------\n",
    "QA        | ------------------\n",
    "          | -----------------5%--------10%----------------40%\n",
    "```"
   ]
  },
  {
   "cell_type": "raw",
   "id": "5b78bd3e",
   "metadata": {},
   "source": [
    "No pude resolver esta última consigna. Obtuve todos los valores pero no logré hacer la gráfica\n"
   ]
  }
 ],
 "metadata": {
  "kernelspec": {
   "display_name": "Python 3 (ipykernel)",
   "language": "python",
   "name": "python3"
  },
  "language_info": {
   "codemirror_mode": {
    "name": "ipython",
    "version": 3
   },
   "file_extension": ".py",
   "mimetype": "text/x-python",
   "name": "python",
   "nbconvert_exporter": "python",
   "pygments_lexer": "ipython3",
   "version": "3.9.7"
  }
 },
 "nbformat": 4,
 "nbformat_minor": 5
}
