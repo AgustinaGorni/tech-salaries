{
 "cells": [
  {
   "cell_type": "markdown",
   "id": "bc2ecba5",
   "metadata": {},
   "source": [
    "1. Descargar, leer y unir en una sola estructura de datos. ¿Qué estructura elegiste y por qué?"
   ]
  },
  {
   "cell_type": "code",
   "execution_count": 166,
   "id": "d0bd354e",
   "metadata": {},
   "outputs": [
    {
     "ename": "NameError",
     "evalue": "name 'csv' is not defined",
     "output_type": "error",
     "traceback": [
      "\u001b[1;31m---------------------------------------------------------------------------\u001b[0m",
      "\u001b[1;31mNameError\u001b[0m                                 Traceback (most recent call last)",
      "\u001b[1;32m~\\AppData\\Local\\Temp/ipykernel_5124/4223472423.py\u001b[0m in \u001b[0;36m<module>\u001b[1;34m\u001b[0m\n\u001b[0;32m     10\u001b[0m \u001b[1;33m\u001b[0m\u001b[0m\n\u001b[0;32m     11\u001b[0m \u001b[1;32mwith\u001b[0m \u001b[0mopen\u001b[0m \u001b[1;33m(\u001b[0m\u001b[1;34mf\"{path_to_file_arg}\"\u001b[0m\u001b[1;33m,\u001b[0m \u001b[1;34m\"r\"\u001b[0m\u001b[1;33m,\u001b[0m \u001b[0mencoding\u001b[0m\u001b[1;33m=\u001b[0m\u001b[1;34m'utf-8'\u001b[0m\u001b[1;33m)\u001b[0m \u001b[1;32mas\u001b[0m \u001b[0mf1\u001b[0m\u001b[1;33m:\u001b[0m\u001b[1;33m\u001b[0m\u001b[1;33m\u001b[0m\u001b[0m\n\u001b[1;32m---> 12\u001b[1;33m     \u001b[0mfixfile\u001b[0m \u001b[1;33m=\u001b[0m \u001b[0mcsv\u001b[0m\u001b[1;33m.\u001b[0m\u001b[0mreader\u001b[0m\u001b[1;33m(\u001b[0m\u001b[0mf1\u001b[0m\u001b[1;33m,\u001b[0m \u001b[0mdelimiter\u001b[0m\u001b[1;33m=\u001b[0m\u001b[1;34m','\u001b[0m\u001b[1;33m,\u001b[0m \u001b[0mquotechar\u001b[0m\u001b[1;33m=\u001b[0m\u001b[1;34m'\"'\u001b[0m\u001b[1;33m)\u001b[0m\u001b[1;33m\u001b[0m\u001b[1;33m\u001b[0m\u001b[0m\n\u001b[0m\u001b[0;32m     13\u001b[0m     \u001b[1;32mfor\u001b[0m \u001b[0mline\u001b[0m \u001b[1;32min\u001b[0m \u001b[0mfixfile\u001b[0m\u001b[1;33m:\u001b[0m\u001b[1;33m\u001b[0m\u001b[1;33m\u001b[0m\u001b[0m\n\u001b[0;32m     14\u001b[0m         \u001b[0manswers_arg\u001b[0m\u001b[1;33m.\u001b[0m\u001b[0mappend\u001b[0m\u001b[1;33m(\u001b[0m\u001b[0mline\u001b[0m\u001b[1;33m)\u001b[0m\u001b[1;33m\u001b[0m\u001b[1;33m\u001b[0m\u001b[0m\n",
      "\u001b[1;31mNameError\u001b[0m: name 'csv' is not defined"
     ]
    }
   ],
   "source": [
    "#2021.2 - sysarmy - Encuesta de remuneración salarial Argentina - Argentina.csv\n",
    "#2021.2 - sysarmy - Encuesta de remuneración salarial Latam - Latam.csv\n",
    "\n",
    "path_to_file_latam = \"2021.2 - sysarmy - Encuesta de remuneración salarial Latam - Latam.csv\"\n",
    "path_to_file_arg = \"2021.2 - sysarmy - Encuesta de remuneración salarial Argentina - Argentina.csv\"\n",
    "\n",
    "#ARGENITNA\n",
    "\n",
    "answers_arg = []\n",
    "\n",
    "with open (f\"{path_to_file_arg}\", \"r\", encoding='utf-8') as f1:\n",
    "    fixfile = csv.reader(f1, delimiter=',', quotechar='\"')\n",
    "    for line in fixfile:\n",
    "        answers_arg.append(line)\n",
    "\n",
    "#print(answers_arg[9])\n",
    "#Crear lista de preguntas a partir del slicing donde se listan todas, arraglarlas un poco para que coincidan y quede todo màs ordenado\n",
    "del answers_arg[0:10]\n",
    "\n",
    "questions_arg = ['Ciudad',\n",
    "'Tipo de contrato',\n",
    "'Salario bruto (ML)',\n",
    "'Salario neto (ML)', \n",
    "'Cobro en dólares', \n",
    "'Valor dolar', \n",
    "'Conformidad con el salario', \n",
    "'Cómo creés que está tu sueldo con respecto al último semestre', \n",
    "'Bonos', \n",
    "'A qué está atado el bono', \n",
    "'Ajustes por inflación', \n",
    " '% del ajuste',\n",
    "'Mes del último ajuste', \n",
    "'Puesto de trabajo', \n",
    "'Años de experiencia',\n",
    "'Años en la empresa actual', \n",
    "'Años en el puesto actual', \n",
    "'Gente a cargo', \n",
    "'Plataformas', \n",
    "'Lenguajes de programación o tecnologías.', \n",
    "'Frameworks, herramientas y librerías', \n",
    "'Bases de datos', \n",
    "'QA / Testing', \n",
    "'IDEs', \n",
    "'Cantidad de personas en tu organización', \n",
    "'La empresa tiene oficinas en tu ciudad', \n",
    "'Actividad principal', \n",
    "'¿La recomendás como un buen lugar para trabajar?', \n",
    "'¿Cómo calificás las políticas de diversidad e inclusión?', \n",
    "'Beneficios extra', \n",
    "'¿Salir o seguir contestando?', \n",
    "'Nivel de estudios alcanzado', \n",
    "'Estado', \n",
    "'Carrera', \n",
    "'Universidad', \n",
    "'¿Realizaste cursos de especialización?', \n",
    "'¿Contribuís a proyectos open source?', \n",
    "'¿Programás como hobbie?', \n",
    "'¿Salir o seguir contestando?', \n",
    "'¿Tenés guardias?', \n",
    "'Cuánto cobrás por guardia', \n",
    "'¿Porcentaje-bruto o neto?', \n",
    "'¿Salir o seguir contestando?', \n",
    "'¿Sufriste o presenciaste situaciones de violencia laboral?', \n",
    "'¿Tenés algún tipo de discapacidad?', \n",
    "'¿Sentís que esto te dificultó el conseguir trabajo?', \n",
    "'¿Salir o seguir contestando?', \n",
    "'¿Cómo venís llevando la pandemia?', \n",
    "'¿Tenés hijos/as menores de edad?', \n",
    "'¿Con cuántas personas estás conviviendo?', \n",
    "'¿Con quiénes convivís?', \n",
    "'¿Tenés un espacio dedicado para el trabajo?', \n",
    "'¿Tenés que compartir tu equipo de trabajo con alguien?', \n",
    "'¿Qué tipo de cuarentena hiciste / estás haciendo?',\n",
    "'¿Cambió tu situación laboral a raíz de la pandemia?', \n",
    "'¿Qué tanto sentís que te está apoyando tu empresa/organización en esta situación?', \n",
    "'¿Cómo se vio afectada tu empresa/organización?', \n",
    "'¿Instauraron algún beneficio nuevo?', \n",
    "'Edad', \n",
    "'Me identifico'\n",
    "]"
   ]
  },
  {
   "cell_type": "code",
   "execution_count": null,
   "id": "b6648c8a",
   "metadata": {},
   "outputs": [],
   "source": [
    "arg_list = []\n",
    "index = 0\n",
    "for answer in answers_arg:\n",
    "    answer_country = {'País' : 'Argentina'}\n",
    "    answer_dic_arg = dict(zip(questions_arg, answers_arg[index]))\n",
    "    answer_country.update(answer_dic_arg)\n",
    "    index += 1\n",
    "    arg_list.append(answer_country)"
   ]
  },
  {
   "cell_type": "code",
   "execution_count": null,
   "id": "28ace43e",
   "metadata": {},
   "outputs": [],
   "source": [
    "#LATAM\n",
    "\n",
    "answers_latam = []\n",
    "\n",
    "with open (f\"{path_to_file_latam}\", \"r\", encoding='utf-8') as f2:\n",
    "    fixfile = csv.reader(f2, delimiter=',', quotechar='\"')\n",
    "    for line in fixfile:\n",
    "        answers_latam.append(line)\n",
    "\n",
    "#print(answers_latam[10])\n",
    "del answers_latam[0:11]\n"
   ]
  },
  {
   "cell_type": "code",
   "execution_count": null,
   "id": "a9483df6",
   "metadata": {},
   "outputs": [],
   "source": [
    "questions_latam = ['País',\n",
    " 'Bolivia',\n",
    " 'Chile',\n",
    " 'Colombia',\n",
    " 'Costa Rica',\n",
    " 'Cuba',\n",
    " 'Ecuador',\n",
    " 'El Salvador',\n",
    " 'Guatemala',\n",
    " 'Honduras',\n",
    " 'México',\n",
    " 'Nicaragua',\n",
    " 'Panamá',\n",
    " 'Paraguay',\n",
    " 'Perú',\n",
    " 'Puerto Rico',\n",
    " 'República Dominicana',\n",
    " 'Uruguay',\n",
    " 'Venezuela',\n",
    " 'Tipo de contrato',\n",
    " 'Salario bruto (ML)',\n",
    " 'Salario neto (ML)',\n",
    " 'Cobro en dólares',\n",
    " 'Valor dólar',\n",
    " 'Conformidad con el salario', \n",
    " 'Cómo creés que está tu sueldo con respecto al último semestre',\n",
    " 'Bonos',\n",
    " 'A qué está atado el bono',\n",
    " 'Ajustes por inflación',\n",
    " '% del ajuste',\n",
    " 'Mes del último ajuste?', \n",
    " 'Puesto de trabajo',\n",
    " 'Años de experiencia',\n",
    " 'Años en la empresa actual',\n",
    " 'Años en el puesto actual',\n",
    " 'Gente a cargo', \n",
    " 'Plataformas',\n",
    " 'Lenguajes de programación o tecnologías.',\n",
    " 'Frameworks, herramientas y librerías',\n",
    " 'Bases de datos',\n",
    " 'QA / Testing',\n",
    " 'IDEs',\n",
    " 'Cantidad de personas en tu organización',\n",
    " 'La empresa tiene oficinas en tu ciudad',\n",
    " 'Actividad principal',\n",
    " '¿La recomendás como un buen lugar para trabajar?',\n",
    " '¿Cómo calificás las políticas de diversidad e inclusión?',\n",
    " 'Beneficios extra',\n",
    " '¿Salir o seguir contestando?',\n",
    " 'Nivel de estudios alcanzado',\n",
    " 'Estado',\n",
    " 'Carrera',\n",
    " 'Universidad',\n",
    " '¿Realizaste cursos de especialización?', \n",
    " '¿Contribuís a proyectos open source?',\n",
    " '¿Programás como hobbie?',\n",
    " '¿Salir o seguir contestando?',\n",
    " '¿Tenés guardias?',\n",
    " 'Cuánto cobrás por guardia',\n",
    " '¿Porcentaje-bruto o neto?',\n",
    " '¿Salir o seguir contestando?',\n",
    " '¿Sufriste o presenciaste situaciones de violencia laboral?',\n",
    " '¿Tenés algún tipo de discapacidad?',\n",
    " '¿Sentís que esto te dificultó el conseguir trabajo?',\n",
    " '¿Salir o seguir contestando?',\n",
    " '¿Cómo venís llevando la pandemia?',\n",
    " '¿Tenés hijos/as menores de edad?',\n",
    " '¿Con cuántas personas estás conviviendo?',\n",
    " '¿Con quiénes convivís?',\n",
    " '¿Tenés un espacio dedicado para el trabajo?',\n",
    " '¿Tenés que compartir tu equipo de trabajo con alguien?',\n",
    " '¿Qué tipo de cuarentena hiciste / estás haciendo?',\n",
    " '¿Cambió tu situación laboral a raíz de la pandemia?',\n",
    " '¿Qué tanto sentís que te está apoyando tu empresa/organización en esta situación?',\n",
    " '¿Cómo se vio afectada tu empresa/organización?',\n",
    " '¿Instauraron algún beneficio nuevo?',\n",
    " 'Edad',\n",
    " 'Me identifico'\n",
    "]\n"
   ]
  },
  {
   "cell_type": "code",
   "execution_count": null,
   "id": "cbe76178",
   "metadata": {},
   "outputs": [],
   "source": [
    "countries = ['Bolivia', 'Chile', 'Colombia', 'Costa Rica', \n",
    "             'Cuba', 'Ecuador', 'El Salvador', 'Guatemala', \n",
    "             'Honduras', 'México', 'Nicaragua', 'Panamá', 'Paraguay', \n",
    "             'Perú', 'Puerto Rico', 'República Dominicana', 'Uruguay', \n",
    "             'Venezuela']\n",
    "\n",
    "#arreglar los campos vacìos de los paìses y ciudad\n",
    "\n",
    "latam_list = []\n",
    "index = 0\n",
    "for answer in answers_latam:\n",
    "    answer_dic_latam = dict(zip(questions_latam, answers_latam[index]))\n",
    "    for key, value in list(answer_dic_latam.items()):\n",
    "        if key in countries and value == '':\n",
    "            del answer_dic_latam[key]\n",
    "        if key in countries and value != '':\n",
    "            answer_dic_latam[\"Ciudad\"] = answer_dic_latam.pop(key)\n",
    "            \n",
    "    index += 1\n",
    "    latam_list.append(answer_dic_latam)\n",
    "    \n",
    "\n",
    "\n"
   ]
  },
  {
   "cell_type": "code",
   "execution_count": null,
   "id": "016900d2",
   "metadata": {},
   "outputs": [],
   "source": [
    "#Unir ambas listas de diccionarios en una sola para analizar en conjunto \n",
    "all_answers = latam_list + arg_list"
   ]
  },
  {
   "cell_type": "markdown",
   "id": "029ec823",
   "metadata": {},
   "source": [
    "2. Printear porcentaje de participación por región, ordenado de mayor a menor. Ej: \n",
    "\n",
    "- Ciudad Autónoma de Buenos Aires - 59.4%\n",
    "- Formosa - 0.04%"
   ]
  },
  {
   "cell_type": "code",
   "execution_count": null,
   "id": "641af0b6",
   "metadata": {},
   "outputs": [],
   "source": [
    "#Una lista con cada ocurrencia de región, y un contador que cuenta cada ocurrencia\n",
    "\n",
    "regions = []\n",
    "\n",
    "for i, answer in enumerate(all_answers):\n",
    "    regions.append(all_answers[i]['Ciudad'])\n",
    "    \n",
    "#print(regions)\n",
    "    \n"
   ]
  },
  {
   "cell_type": "code",
   "execution_count": null,
   "id": "5c6ecc7b",
   "metadata": {},
   "outputs": [],
   "source": [
    "import collections\n",
    "\n",
    "counter_regions = collections.Counter(regions)\n",
    "\n",
    "#print(counter_regions)\n",
    "participation_regions = {}\n",
    "\n",
    "def percent(value,total):\n",
    "    \"\"\"\n",
    "    calculates a percentage and rounds to two decimals\n",
    "    \"\"\"   \n",
    "    return round(float(value)/float(total) *100, 2)\n",
    "\n",
    "for region in counter_regions:\n",
    "    participation = percent(counter_regions[region],len(regions))\n",
    "    participation_regions[region] = participation\n",
    "    participation_regions = dict(sorted(participation_regions.items(), key=lambda item: item[1], reverse=True))\n"
   ]
  },
  {
   "cell_type": "code",
   "execution_count": null,
   "id": "236e4524",
   "metadata": {},
   "outputs": [],
   "source": [
    "print(f'Participación por región: {participation_regions}') #Arreglar y formatear mejor el print"
   ]
  },
  {
   "cell_type": "markdown",
   "id": "913037c3",
   "metadata": {},
   "source": [
    "3. Printear porcentaje de participación por tipo de rol, ordenado de mayor a menor. Ej:  \n",
    "`- Developer - 39.11 %`"
   ]
  },
  {
   "cell_type": "code",
   "execution_count": null,
   "id": "b907c76c",
   "metadata": {},
   "outputs": [],
   "source": [
    "#Una lista con cada ocurrencia de rol, y un contador que cuenta cada ocurrencia\n",
    "\n",
    "roles = []\n",
    "\n",
    "for i, answer in enumerate(all_answers):\n",
    "    roles.append(all_answers[i]['Puesto de trabajo'])\n",
    "    \n",
    "#print(roles)\n",
    "\n",
    "counter_roles = collections.Counter(roles)\n",
    "\n",
    "participation_roles = {}\n",
    "\n",
    "for role in counter_roles:\n",
    "    participation = percent(counter_roles[role],len(roles))\n",
    "    participation_roles[role] = participation\n",
    "    participation_roles = dict(sorted(participation_roles.items(), key=lambda item: item[1], reverse=True))\n",
    "\n",
    "#participation_roles\n"
   ]
  },
  {
   "cell_type": "code",
   "execution_count": null,
   "id": "e7d0d024",
   "metadata": {},
   "outputs": [],
   "source": [
    "print(f'Participación por rol: {participation_roles}') #Arreglar y formatear mejor el print"
   ]
  },
  {
   "cell_type": "markdown",
   "id": "57b2b712",
   "metadata": {},
   "source": [
    "4. Printear porcentaje de respuesta para las preguntas: \n",
    "* ¿Contribuís a proyectos Open Source?\n",
    "* ¿Programás por hobbie?"
   ]
  },
  {
   "cell_type": "code",
   "execution_count": null,
   "id": "8609f19d",
   "metadata": {},
   "outputs": [],
   "source": [
    "# Consideré hacer una lista paraa cada una de las opciones (Empty, yes, no), pero para evitar sobrepopular de variables me decidí por dos diccionarios \n",
    "#Un diccionario para open source y otro para \"programar por hobbie\" con cada una de las opciones como keys, y la cantidad de respuestas como values                                \n",
    "            \n",
    "opensource_proy = []\n",
    "program_hobbie = []\n",
    "\n",
    "for i, answer in enumerate(all_answers):\n",
    "    opensource_proy.append(all_answers[i]['¿Contribuís a proyectos open source?'])\n",
    "    program_hobbie.append(all_answers[i]['¿Programás como hobbie?'])\n",
    "    \n",
    "\n",
    "counter_opensource_proy = collections.Counter(opensource_proy)\n",
    "counter_opensource_proy['n/a'] = counter_opensource_proy.pop('') #Cambiar key vacía\n",
    "\n",
    "opensource_answered = counter_opensource_proy['Sí'] + counter_opensource_proy['No'] #Cuántos efectivamente respondieron la pregunta\n",
    "\n",
    "opensource_yes_to_total = percent(counter_opensource_proy['Sí'],len(opensource_proy))\n",
    "#print(opensource_yes_to_total)\n",
    "\n",
    "opensource_yes_to_answered = percent(counter_opensource_proy['Sí'],opensource_answered)\n",
    "#print(opensource_yes_to_answered)\n",
    "\n",
    "\n"
   ]
  },
  {
   "cell_type": "code",
   "execution_count": null,
   "id": "7d15f09b",
   "metadata": {},
   "outputs": [],
   "source": [
    "counter_program_hobbie = collections.Counter(program_hobbie)\n",
    "counter_program_hobbie['n/a'] = counter_program_hobbie.pop('') #Cambiar key vacía\n",
    "\n",
    "program_hobbie_answered = counter_program_hobbie['Sí'] + counter_program_hobbie['No'] #Cuántos efectivamente respondieron la pregunta\n",
    "\n",
    "program_hobbie_yes_to_total = percent(counter_program_hobbie['Sí'],len(program_hobbie))\n",
    "#print(program_hobbie_yes_to_total)\n",
    "\n",
    "program_hobbie_yes_to_answered = percent(counter_program_hobbie['Sí'],program_hobbie_answered)\n",
    "#print(program_hobbie_yes_to_answered)\n"
   ]
  },
  {
   "cell_type": "code",
   "execution_count": null,
   "id": "84476f08",
   "metadata": {},
   "outputs": [],
   "source": [
    "print(f\"El {opensource_yes_to_total}% del total del participantes de la encuesta dijeron que contribuyen a proyectos open source. Si tomamos en cuenta solo a los que respondieron ese punto, el porcentaje de respuestas afirmativas es de {opensource_yes_to_answered}% \")\n",
    "\n",
    "print(f\"El {program_hobbie_yes_to_total}% del total del participantes de la encuesta dijeron que programan por hobbie. Si tomamos en cuenta solo a los que respondieron ese punto, el porcentaje de respuestas afirmativas es de {program_hobbie_yes_to_answered}% \")"
   ]
  },
  {
   "cell_type": "markdown",
   "id": "e2c8ab67",
   "metadata": {},
   "source": [
    "5. Printear porcentaje por seniority según años de experiencia, el mapeo es:\n",
    "```\n",
    "Junior: de 0 hasta 2 años.\n",
    "Semi-Senior: de 2 años inclusive hasta 5 años.\n",
    "Senior: desde 5 años inclusive.\n",
    "```"
   ]
  },
  {
   "cell_type": "code",
   "execution_count": null,
   "id": "2f0c4551",
   "metadata": {},
   "outputs": [],
   "source": [
    "#Sets con cada valor de seniority, para poder generar las condiciones para crear el diccionario\n",
    "# hay respuestas con decimales que van a parar a Senior. No sé cómo cambiarlo\n",
    "\n",
    "\n",
    "junior = {'0','1'}\n",
    "ssr = {'2', '3', '4'}\n",
    "    \n",
    "seniority_dict = {}\n",
    "for i, answer in enumerate(all_answers):\n",
    "    if all_answers[i]['Años de experiencia'] in junior:\n",
    "        seniority_dict.setdefault('Junior', []).append(all_answers[i]['Años de experiencia'])\n",
    "    elif all_answers[i]['Años de experiencia'] in ssr:\n",
    "        seniority_dict.setdefault('Semi-Senior', []).append(all_answers[i]['Años de experiencia'])\n",
    "    else:\n",
    "        seniority_dict.setdefault('Senior', []).append(all_answers[i]['Años de experiencia'])\n",
    "        \n",
    "junior_percent = percent(len(seniority_dict['Junior']), len(all_answers))\n",
    "ssr_percent = percent(len(seniority_dict['Semi-Senior']), len(all_answers))\n",
    "sr_percent = percent(len(seniority_dict['Senior']), len(all_answers))"
   ]
  },
  {
   "cell_type": "code",
   "execution_count": null,
   "id": "b2434797",
   "metadata": {},
   "outputs": [],
   "source": [
    "print(f'''Porcentaje de nivel Junior: {junior_percent}%. \n",
    "Porcentaje de nivel Semi-Senior: {ssr_percent}%.\n",
    "Porcentaje de nivel Senior: {sr_percent}%.''')"
   ]
  },
  {
   "cell_type": "markdown",
   "id": "c1133d3e",
   "metadata": {},
   "source": [
    "6. Printear porcentaje de personas encuestadas por años en la compañía actual y por años en el puesto actual."
   ]
  },
  {
   "cell_type": "code",
   "execution_count": null,
   "id": "ac4c7bb0",
   "metadata": {},
   "outputs": [],
   "source": []
  },
  {
   "cell_type": "markdown",
   "id": "75041338",
   "metadata": {},
   "source": [
    "7. Printear porcentajes de nivel de educación formal y estado, es decir: % educación secundaria, terciaria, universitaria, postgrado, doctorado, postdoctorado, completo, incompleto y en curso para cada uno."
   ]
  },
  {
   "cell_type": "code",
   "execution_count": null,
   "id": "7dbeb98c",
   "metadata": {},
   "outputs": [],
   "source": [
    "'''\n",
    "education_lvl = []\n",
    "\n",
    "for i, answer in enumerate(all_answers):\n",
    "    if all_answers[i]['Nivel de estudios alcanzado'] not in education_lvl:\n",
    "        education_lvl.append(all_answers[i]['Nivel de estudios alcanzado'])\n",
    "\n",
    "education_state = {}\n",
    "\n",
    "for i, answer in enumerate(all_answers):\n",
    "    if all_answers[i]['Nivel de estudios alcanzado'] in education_lvl:\n",
    "        \n",
    "'''\n"
   ]
  },
  {
   "cell_type": "markdown",
   "id": "0c9ff17e",
   "metadata": {},
   "source": [
    "8. Formatear las carreras universitarias:\n",
    "- Nombres capitalizados\n",
    "- Reemplazar vocales con tilde por vocales sin tilde.\n",
    "- Reemplazar `ñ` por `n`\n",
    "- *lic*, *lic.* por Licenciatura\n",
    "- *tec*, *tec.* por Tecnucatura\n",
    "* *cs, *cs.* por Ciencias\n",
    "* *ed, ed.* por Educación\n",
    "* Transformaciones que se consideren necesarias\n",
    "\n",
    "Printear porcentaje según carrera"
   ]
  },
  {
   "cell_type": "code",
   "execution_count": null,
   "id": "5dd48176",
   "metadata": {},
   "outputs": [],
   "source": [
    "def format_str(word:str):\n",
    "    '''\n",
    "    ''' \n",
    "    word = word.lower().replace('.', '').replace(',', '')\n",
    "    replace = (('á', 'a'), ('é', 'e'), \n",
    "               ('í', 'i'), ('ó', 'o'), \n",
    "               ('ú', 'u'), ('ñ', 'n'),\n",
    "               ('lic ', 'licenciatura'), ('tec ', 'tecnicatura'), \n",
    "               ('cs ', 'ciencias'), ('ed ', 'educacion'))\n",
    "    for a, b in replace:\n",
    "        word = word.replace(a , b)\n",
    "    \n",
    "    word = word.capitalize()\n",
    "\n",
    "    return word\n"
   ]
  },
  {
   "cell_type": "code",
   "execution_count": null,
   "id": "eb7005b9",
   "metadata": {},
   "outputs": [],
   "source": [
    "for answer in all_answers:\n",
    "    for value in answer['Carrera']:\n",
    "        answer['Carrera'] = format_str(answer['Carrera'])\n",
    "        \n",
    "careers = []\n",
    "\n",
    "for i, answer in enumerate(all_answers):\n",
    "    careers.append(all_answers[i]['Carrera'])\n",
    "    \n",
    "#print(careers)\n",
    "\n"
   ]
  },
  {
   "cell_type": "code",
   "execution_count": null,
   "id": "6a41ee8f",
   "metadata": {},
   "outputs": [],
   "source": [
    "counter_careers = collections.Counter(careers)\n",
    "counter_careers['n/a'] = counter_careers.pop('')\n",
    "\n",
    "#print(counter_careers)\n",
    "participation_careers = {}\n",
    "for career in counter_careers:\n",
    "    participation = percent(counter_careers[career],len(careers))\n",
    "    participation_careers[career] = participation\n",
    "    participation_careers = dict(sorted(participation_careers.items(), key=lambda item: item[1], reverse=True))\n",
    "    \n",
    "#print(participation_careers)\n",
    "\n",
    "#PROBAR HACERLO SOLO CON LOS QUE NO DEJARON LA RESPUESTA EN BLANCO"
   ]
  },
  {
   "cell_type": "code",
   "execution_count": null,
   "id": "c2c89420",
   "metadata": {},
   "outputs": [],
   "source": [
    "print(f'Participación según carrera: {participation_careers}') #Arreglar y formatear mejor el print"
   ]
  },
  {
   "cell_type": "markdown",
   "id": "69300083",
   "metadata": {},
   "source": [
    "9. Printear porcentaje de respuesta a las preguntas:\n",
    "- ¿Realizaste cursos de especialización?\n",
    "- Si realizaste, ¿Quién pagó por los cursos de especialización?"
   ]
  },
  {
   "cell_type": "code",
   "execution_count": 167,
   "id": "9fff4790",
   "metadata": {},
   "outputs": [
    {
     "name": "stdout",
     "output_type": "stream",
     "text": [
      "Counter({'n/a': 3396, '\"Sí-de forma particular\"': 1731, 'No': 725, '\"Sí-de forma particular-Sí-los pagó un empleador\"': 711, '\"Sí-los pagó un empleador\"': 295, '\"No-Sí-de forma particular\"': 9, '\"No-Sí-los pagó un empleador\"': 2})\n"
     ]
    }
   ],
   "source": [
    "courses = []\n",
    "\n",
    "\n",
    "for i, answer in enumerate(all_answers):\n",
    "    courses.append(all_answers[i]['¿Realizaste cursos de especialización?'])\n",
    "\n",
    "counter_courses = collections.Counter(courses)\n",
    "counter_courses['n/a'] = counter_courses.pop('') #Cambiar key vacía\n",
    "\n",
    "print(counter_courses)\n"
   ]
  },
  {
   "cell_type": "code",
   "execution_count": null,
   "id": "36cf08c4",
   "metadata": {},
   "outputs": [],
   "source": [
    "\n"
   ]
  }
 ],
 "metadata": {
  "kernelspec": {
   "display_name": "Python 3 (ipykernel)",
   "language": "python",
   "name": "python3"
  },
  "language_info": {
   "codemirror_mode": {
    "name": "ipython",
    "version": 3
   },
   "file_extension": ".py",
   "mimetype": "text/x-python",
   "name": "python",
   "nbconvert_exporter": "python",
   "pygments_lexer": "ipython3",
   "version": "3.9.7"
  }
 },
 "nbformat": 4,
 "nbformat_minor": 5
}
