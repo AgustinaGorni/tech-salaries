{
 "cells": [
  {
   "cell_type": "markdown",
   "id": "bc2ecba5",
   "metadata": {},
   "source": [
    "1. Descargar, leer y unir en una sola estructura de datos. ¿Qué estructura elegiste y por qué?"
   ]
  },
  {
   "cell_type": "code",
   "execution_count": 1,
   "id": "d0bd354e",
   "metadata": {},
   "outputs": [],
   "source": [
    "#2021.2 - sysarmy - Encuesta de remuneración salarial Argentina - Argentina.csv\n",
    "#2021.2 - sysarmy - Encuesta de remuneración salarial Latam - Latam.csv\n",
    "\n",
    "path_to_file_latam = \"2021.2 - sysarmy - Encuesta de remuneración salarial Latam - Latam.csv\"\n",
    "path_to_file_arg = \"2021.2 - sysarmy - Encuesta de remuneración salarial Argentina - Argentina.csv\"\n",
    "\n",
    "import csv\n",
    "\n",
    "#ARGENITNA\n",
    "\n",
    "answers_arg = []\n",
    "\n",
    "with open (f\"{path_to_file_arg}\", \"r\", encoding='utf-8') as f1:\n",
    "    fixfile = csv.reader(f1, delimiter=',', quotechar='\"')\n",
    "    for line in fixfile:\n",
    "        answers_arg.append(line)\n",
    "\n",
    "#print(answers_arg[9])\n",
    "#Crear lista de preguntas a partir del slicing donde se listan todas, arraglarlas un poco para que coincidan y quede todo màs ordenado\n",
    "del answers_arg[0:10]\n",
    "\n",
    "questions_arg = ['Ciudad',\n",
    "'Tipo de contrato',\n",
    "'Salario bruto (ML)',\n",
    "'Salario neto (ML)', \n",
    "'Cobro en dólares', \n",
    "'Valor dolar', \n",
    "'Conformidad con el salario', \n",
    "'Cómo creés que está tu sueldo con respecto al último semestre', \n",
    "'Bonos', \n",
    "'A qué está atado el bono', \n",
    "'Ajustes por inflación', \n",
    " '% del ajuste',\n",
    "'Mes del último ajuste', \n",
    "'Puesto de trabajo', \n",
    "'Años de experiencia',\n",
    "'Años en la empresa actual', \n",
    "'Años en el puesto actual', \n",
    "'Gente a cargo', \n",
    "'Plataformas', \n",
    "'Lenguajes de programación o tecnologías.', \n",
    "'Frameworks, herramientas y librerías', \n",
    "'Bases de datos', \n",
    "'QA / Testing', \n",
    "'IDEs', \n",
    "'Cantidad de personas en tu organización', \n",
    "'La empresa tiene oficinas en tu ciudad', \n",
    "'Actividad principal', \n",
    "'¿La recomendás como un buen lugar para trabajar?', \n",
    "'¿Cómo calificás las políticas de diversidad e inclusión?', \n",
    "'Beneficios extra', \n",
    "'¿Salir o seguir contestando?', \n",
    "'Nivel de estudios alcanzado', \n",
    "'Estado', \n",
    "'Carrera', \n",
    "'Universidad', \n",
    "'¿Realizaste cursos de especialización?', \n",
    "'¿Contribuís a proyectos open source?', \n",
    "'¿Programás como hobbie?', \n",
    "'¿Salir o seguir contestando?', \n",
    "'¿Tenés guardias?', \n",
    "'Cuánto cobrás por guardia', \n",
    "'¿Porcentaje-bruto o neto?', \n",
    "'¿Salir o seguir contestando?', \n",
    "'¿Sufriste o presenciaste situaciones de violencia laboral?', \n",
    "'¿Tenés algún tipo de discapacidad?', \n",
    "'¿Sentís que esto te dificultó el conseguir trabajo?', \n",
    "'¿Salir o seguir contestando?', \n",
    "'¿Cómo venís llevando la pandemia?', \n",
    "'¿Tenés hijos/as menores de edad?', \n",
    "'¿Con cuántas personas estás conviviendo?', \n",
    "'¿Con quiénes convivís?', \n",
    "'¿Tenés un espacio dedicado para el trabajo?', \n",
    "'¿Tenés que compartir tu equipo de trabajo con alguien?', \n",
    "'¿Qué tipo de cuarentena hiciste / estás haciendo?',\n",
    "'¿Cambió tu situación laboral a raíz de la pandemia?', \n",
    "'¿Qué tanto sentís que te está apoyando tu empresa/organización en esta situación?', \n",
    "'¿Cómo se vio afectada tu empresa/organización?', \n",
    "'¿Instauraron algún beneficio nuevo?', \n",
    "'Edad', \n",
    "'Me identifico'\n",
    "]"
   ]
  },
  {
   "cell_type": "code",
   "execution_count": 2,
   "id": "b6648c8a",
   "metadata": {},
   "outputs": [],
   "source": [
    "arg_list = []\n",
    "\n",
    "for i, answer in enumerate(answers_arg):\n",
    "    answer_country = {'País' : 'Argentina'}\n",
    "    answer_dic_arg = dict(zip(questions_arg, answers_arg[i]))\n",
    "    answer_country.update(answer_dic_arg)\n",
    "\n",
    "    arg_list.append(answer_country)"
   ]
  },
  {
   "cell_type": "code",
   "execution_count": 3,
   "id": "28ace43e",
   "metadata": {},
   "outputs": [],
   "source": [
    "#LATAM\n",
    "\n",
    "answers_latam = []\n",
    "\n",
    "with open (f\"{path_to_file_latam}\", \"r\", encoding='utf-8') as f2:\n",
    "    fixfile = csv.reader(f2, delimiter=',', quotechar='\"')\n",
    "    for line in fixfile:\n",
    "        answers_latam.append(line)\n",
    "\n",
    "#print(answers_latam[10])\n",
    "del answers_latam[0:11]\n"
   ]
  },
  {
   "cell_type": "code",
   "execution_count": 4,
   "id": "a9483df6",
   "metadata": {},
   "outputs": [],
   "source": [
    "questions_latam = ['País',\n",
    " 'Bolivia',\n",
    " 'Chile',\n",
    " 'Colombia',\n",
    " 'Costa Rica',\n",
    " 'Cuba',\n",
    " 'Ecuador',\n",
    " 'El Salvador',\n",
    " 'Guatemala',\n",
    " 'Honduras',\n",
    " 'México',\n",
    " 'Nicaragua',\n",
    " 'Panamá',\n",
    " 'Paraguay',\n",
    " 'Perú',\n",
    " 'Puerto Rico',\n",
    " 'República Dominicana',\n",
    " 'Uruguay',\n",
    " 'Venezuela',\n",
    " 'Tipo de contrato',\n",
    " 'Salario bruto (ML)',\n",
    " 'Salario neto (ML)',\n",
    " 'Cobro en dólares',\n",
    " 'Valor dólar',\n",
    " 'Conformidad con el salario', \n",
    " 'Cómo creés que está tu sueldo con respecto al último semestre',\n",
    " 'Bonos',\n",
    " 'A qué está atado el bono',\n",
    " 'Ajustes por inflación',\n",
    " '% del ajuste',\n",
    " 'Mes del último ajuste?', \n",
    " 'Puesto de trabajo',\n",
    " 'Años de experiencia',\n",
    " 'Años en la empresa actual',\n",
    " 'Años en el puesto actual',\n",
    " 'Gente a cargo', \n",
    " 'Plataformas',\n",
    " 'Lenguajes de programación o tecnologías.',\n",
    " 'Frameworks, herramientas y librerías',\n",
    " 'Bases de datos',\n",
    " 'QA / Testing',\n",
    " 'IDEs',\n",
    " 'Cantidad de personas en tu organización',\n",
    " 'La empresa tiene oficinas en tu ciudad',\n",
    " 'Actividad principal',\n",
    " '¿La recomendás como un buen lugar para trabajar?',\n",
    " '¿Cómo calificás las políticas de diversidad e inclusión?',\n",
    " 'Beneficios extra',\n",
    " '¿Salir o seguir contestando?',\n",
    " 'Nivel de estudios alcanzado',\n",
    " 'Estado',\n",
    " 'Carrera',\n",
    " 'Universidad',\n",
    " '¿Realizaste cursos de especialización?', \n",
    " '¿Contribuís a proyectos open source?',\n",
    " '¿Programás como hobbie?',\n",
    " '¿Salir o seguir contestando?',\n",
    " '¿Tenés guardias?',\n",
    " 'Cuánto cobrás por guardia',\n",
    " '¿Porcentaje-bruto o neto?',\n",
    " '¿Salir o seguir contestando?',\n",
    " '¿Sufriste o presenciaste situaciones de violencia laboral?',\n",
    " '¿Tenés algún tipo de discapacidad?',\n",
    " '¿Sentís que esto te dificultó el conseguir trabajo?',\n",
    " '¿Salir o seguir contestando?',\n",
    " '¿Cómo venís llevando la pandemia?',\n",
    " '¿Tenés hijos/as menores de edad?',\n",
    " '¿Con cuántas personas estás conviviendo?',\n",
    " '¿Con quiénes convivís?',\n",
    " '¿Tenés un espacio dedicado para el trabajo?',\n",
    " '¿Tenés que compartir tu equipo de trabajo con alguien?',\n",
    " '¿Qué tipo de cuarentena hiciste / estás haciendo?',\n",
    " '¿Cambió tu situación laboral a raíz de la pandemia?',\n",
    " '¿Qué tanto sentís que te está apoyando tu empresa/organización en esta situación?',\n",
    " '¿Cómo se vio afectada tu empresa/organización?',\n",
    " '¿Instauraron algún beneficio nuevo?',\n",
    " 'Edad',\n",
    " 'Me identifico'\n",
    "]\n"
   ]
  },
  {
   "cell_type": "code",
   "execution_count": 5,
   "id": "cbe76178",
   "metadata": {},
   "outputs": [],
   "source": [
    "countries = ['Bolivia', 'Chile', 'Colombia', 'Costa Rica', \n",
    "             'Cuba', 'Ecuador', 'El Salvador', 'Guatemala', \n",
    "             'Honduras', 'México', 'Nicaragua', 'Panamá', 'Paraguay', \n",
    "             'Perú', 'Puerto Rico', 'República Dominicana', 'Uruguay', \n",
    "             'Venezuela']\n",
    "\n",
    "#arreglar los campos vacìos de los paìses y ciudad\n",
    "\n",
    "latam_list = []\n",
    "\n",
    "for i, answer in enumerate(answers_latam):\n",
    "    answer_dic_latam = dict(zip(questions_latam, answers_latam[i]))\n",
    "    for key, value in list(answer_dic_latam.items()):\n",
    "        if key in countries and value == '':\n",
    "            del answer_dic_latam[key]\n",
    "        if key in countries and value != '':\n",
    "            answer_dic_latam[\"Ciudad\"] = answer_dic_latam.pop(key)\n",
    "            \n",
    "    latam_list.append(answer_dic_latam)\n",
    "    \n",
    "\n",
    "\n"
   ]
  },
  {
   "cell_type": "code",
   "execution_count": 6,
   "id": "016900d2",
   "metadata": {},
   "outputs": [],
   "source": [
    "#Unir ambas listas de diccionarios en una sola para analizar en conjunto \n",
    "all_answers = latam_list + arg_list"
   ]
  },
  {
   "cell_type": "markdown",
   "id": "029ec823",
   "metadata": {},
   "source": [
    "2. Printear porcentaje de participación por región, ordenado de mayor a menor. Ej: \n",
    "\n",
    "- Ciudad Autónoma de Buenos Aires - 59.4%\n",
    "- Formosa - 0.04%"
   ]
  },
  {
   "cell_type": "code",
   "execution_count": 7,
   "id": "641af0b6",
   "metadata": {},
   "outputs": [],
   "source": [
    "#Una lista con cada ocurrencia de región, y un contador que cuenta cada ocurrencia\n",
    "\n",
    "regions = []\n",
    "\n",
    "for i, answer in enumerate(all_answers):\n",
    "    regions.append(all_answers[i]['Ciudad'])\n",
    "    \n",
    "#print(regions)\n",
    "    \n"
   ]
  },
  {
   "cell_type": "code",
   "execution_count": 8,
   "id": "5c6ecc7b",
   "metadata": {},
   "outputs": [],
   "source": [
    "import collections\n",
    "\n",
    "counter_regions = collections.Counter(regions)\n",
    "\n",
    "#print(counter_regions)\n",
    "participation_regions = {}\n",
    "\n",
    "def percent(value,total):\n",
    "    \"\"\"\n",
    "    calculates a percentage and rounds to two decimals\n",
    "    \"\"\"   \n",
    "    return round(float(value)/float(total) *100, 2)\n",
    "\n",
    "for region in counter_regions:\n",
    "    participation = percent(counter_regions[region],len(regions))\n",
    "    participation_regions[region] = participation\n",
    "    participation_regions = dict(sorted(participation_regions.items(), key=lambda item: item[1], reverse=True))\n"
   ]
  },
  {
   "cell_type": "code",
   "execution_count": 9,
   "id": "236e4524",
   "metadata": {},
   "outputs": [
    {
     "name": "stdout",
     "output_type": "stream",
     "text": [
      "Participación por región: {'Ciudad Autónoma de Buenos Aires': 51.71, 'Provincia de Buenos Aires': 10.1, 'GBA': 9.2, 'Córdoba': 7.8, 'Santa Fe': 5.82, 'Mendoza': 2.18, 'Montevideo': 1.7, 'Entre Ríos': 0.96, 'Río Negro': 0.76, 'Tucumán': 0.76, 'Neuquén': 0.68, 'Misiones': 0.61, 'Santiago': 0.58, 'Chaco': 0.57, 'México DF': 0.48, 'Lima': 0.45, 'Salta': 0.42, 'San Juan': 0.35, 'Corrientes': 0.35, 'Bogotá': 0.28, 'Chubut': 0.28, 'Jujuy': 0.28, 'Medellín': 0.25, 'Quito': 0.23, 'La Rioja': 0.23, 'San Luis': 0.17, 'Tierra del Fuego': 0.17, 'Santiago de Cali': 0.13, 'Ciudad Guatemala': 0.12, 'La Pampa': 0.12, 'Santiago del Estero': 0.12, 'Guadalajara': 0.1, 'Guayaquil': 0.09, 'Asunción': 0.09, 'Santa Cruz de la Sierra': 0.07, 'Santa Cruz': 0.07, 'Caracas': 0.07, 'Querétaro': 0.06, 'Cochabamba': 0.04, 'Valparaíso': 0.04, 'Tunja': 0.04, 'Manizales': 0.04, 'San José': 0.04, 'Loja': 0.04, 'Monterrey': 0.04, 'Veracruz': 0.04, 'Puebla de Zaragoza': 0.04, 'Valencia': 0.04, 'Catamarca': 0.04, 'La Paz': 0.03, 'Pereira': 0.03, 'Heredia': 0.03, 'Cuenca': 0.03, 'Pachuca': 0.03, 'Oaxaca de Juárez': 0.03, 'Villahermosa': 0.03, 'Mérida': 0.03, 'Morelia': 0.03, 'Culiacán': 0.03, 'Zapopan': 0.03, 'Managua': 0.03, 'Arequipa': 0.03, 'Maldonado': 0.03, 'Salto': 0.03, 'Barquisimeto': 0.03, 'San Cristóbal': 0.03, 'Maipo': 0.01, 'Biobío': 0.01, 'Cachapoal': 0.01, 'Talca': 0.01, 'Valdivia': 0.01, 'Cúcuta': 0.01, 'Ibagué': 0.01, 'Cartagena de Indias': 0.01, 'Bucaramanga': 0.01, 'Neiva': 0.01, 'Montería': 0.01, 'Arauca': 0.01, 'Purral': 0.01, 'Provincia de Ciudad de La Habana': 0.01, 'Sancti Spíritus': 0.01, 'Salinas': 0.01, 'Ambato': 0.01, 'Riobamba': 0.01, 'Santa Tecla': 0.01, 'San Salvador': 0.01, 'Antigua Guatemala': 0.01, 'San Pedro Sula': 0.01, 'Cuernavaca': 0.01, 'Saltillo': 0.01, 'Chihuahua': 0.01, 'Ecatepec': 0.01, 'Victoria de Durango': 0.01, 'Tijuana': 0.01, 'Cancún': 0.01, 'Ciudad Nezahualcóyotl': 0.01, 'Chinandega': 0.01, 'Ciudad de Panamá': 0.01, 'San Lorenzo': 0.01, 'Encarnación': 0.01, 'Trujillo': 0.01, 'Puno': 0.01, 'Santo Domingo': 0.01, 'Trinidad': 0.01, 'Florida': 0.01, 'Barcelona': 0.01, 'Formosa': 0.01}\n"
     ]
    }
   ],
   "source": [
    "print(f'Participación por región: {participation_regions}') #Arreglar y formatear mejor el print"
   ]
  },
  {
   "cell_type": "markdown",
   "id": "913037c3",
   "metadata": {},
   "source": [
    "3. Printear porcentaje de participación por tipo de rol, ordenado de mayor a menor. Ej:  \n",
    "`- Developer - 39.11 %`"
   ]
  },
  {
   "cell_type": "code",
   "execution_count": 10,
   "id": "b907c76c",
   "metadata": {},
   "outputs": [],
   "source": [
    "#Una lista con cada ocurrencia de rol, y un contador que cuenta cada ocurrencia\n",
    "\n",
    "roles = []\n",
    "\n",
    "for i, answer in enumerate(all_answers):\n",
    "    roles.append(all_answers[i]['Puesto de trabajo'])\n",
    "    \n",
    "#print(roles)\n",
    "\n",
    "counter_roles = collections.Counter(roles)\n",
    "\n",
    "participation_roles = {}\n",
    "\n",
    "for role in counter_roles:\n",
    "    participation = percent(counter_roles[role],len(roles))\n",
    "    participation_roles[role] = participation\n",
    "    participation_roles = dict(sorted(participation_roles.items(), key=lambda item: item[1], reverse=True))\n",
    "\n",
    "#participation_roles\n"
   ]
  },
  {
   "cell_type": "code",
   "execution_count": 11,
   "id": "e7d0d024",
   "metadata": {},
   "outputs": [
    {
     "name": "stdout",
     "output_type": "stream",
     "text": [
      "Participación por rol: {'Developer': 40.69, 'SysAdmin / DevOps / SRE': 11.09, 'Technical Leader': 6.16, 'QA / Tester': 4.29, 'Manager / Director': 4.28, 'Project Manager': 3.09, 'HelpDesk': 2.62, 'BI Analyst / Data Analyst': 2.45, 'Architect': 2.23, 'Consultant': 1.92, 'Data Engineer': 1.76, 'Business Analyst': 1.69, 'Networking': 1.54, 'UX': 1.5, 'Data Scientist': 1.48, 'Infosec': 1.43, 'Recruiter / HR': 1.24, 'Product Manager': 1.21, 'DBA': 0.71, 'Scrum Master': 0.66, 'Designer': 0.64, 'VP / C-Level': 0.55, 'Sales / Pre-Sales': 0.42, 'Middleware': 0.17, 'Finance': 0.17, 'Technical Writer': 0.16, 'Storage / Backup': 0.12, 'Analista funcional': 0.09, 'Docente': 0.07, 'Product Owner': 0.06, 'Agile Coach': 0.04, 'Software Engineer': 0.04, 'analista funcional': 0.04, 'Analista Funcional': 0.04, 'DevOps': 0.04, 'Coordinador': 0.04, 'RPA': 0.04, 'Analista': 0.03, 'Team leader': 0.03, 'Support Engineer': 0.03, 'People Analytics': 0.03, 'Data Architect': 0.03, 'Team Leader': 0.03, 'Productor y vendedor': 0.03, 'Cloud Security': 0.03, 'NLP Developer': 0.03, 'Soporte tecnico': 0.03, 'SDET': 0.03, 'Profesor': 0.03, 'Cybersecurity': 0.03, 'Functional Analyst': 0.03, 'Product owner': 0.03, 'Technical Analyst': 0.03, 'Service Designer': 0.03, 'Project Engineering': 0.03, 'Auditor': 0.03, 'QA Automation': 0.03, 'Functional analyst': 0.03, 'UI': 0.03, 'Soporte IT': 0.03, 'Change Manager': 0.03, 'soporte': 0.03, 'Alliances Manager (Indirect Sales)': 0.01, 'Data Quality': 0.01, 'Aprentice': 0.01, 'ingeniero infraestructuras de virtualizacion': 0.01, 'Teacher': 0.01, 'Profesor de teatro ': 0.01, 'TI': 0.01, 'Mix entre SysAdmin y Developer pasando por DBA': 0.01, 'Chef': 0.01, 'Artesanal': 0.01, 'Technical Support Engineer': 0.01, 'Salesforce Admin/Developer': 0.01, 'Analista Funcional de Sistemas': 0.01, 'independiente ': 0.01, 'Soporte on site': 0.01, 'App analyst': 0.01, 'Cajera': 0.01, 'Technical Business Analyst': 0.01, 'Administrador Infraestructura': 0.01, 'help desk + backup + vmware + sys admin': 0.01, 'Data Visualization': 0.01, 'Mainframe': 0.01, 'machine learning egineer': 0.01, 'exploit writer': 0.01, 'BI Sr. Manager': 0.01, 'Operador': 0.01, 'soporte nivel 1,2 y 3': 0.01, ' Cloud Architect': 0.01, 'Engineering Manager': 0.01, 'Técnicamente soy QA pero hago trabajo de PO ¿trainee?': 0.01, 'SRE': 0.01, 'supervisor helpdek': 0.01, 'Asistencia técnica': 0.01, 'lead': 0.01, 'Soporte': 0.01, 'Tech support ': 0.01, 'Back office': 0.01, 'analista': 0.01, 'Jefe operacion ti': 0.01, 'Auditoría': 0.01, 'IT Infrastructure Engineer': 0.01, 'Data Center': 0.01, 'Software engineer ': 0.01, 'Information Security': 0.01, 'SAP Basis': 0.01, 'Seguridad informática ': 0.01, 'Seguridad': 0.01, 'Coordinador operaciones y soporte aplicativo': 0.01, 'Application Engineer': 0.01, 'Becario doctoral ': 0.01, 'Automation Engineer': 0.01, 'Analista Tecnico': 0.01, 'Frontend Developer': 0.01, 'Jefe de Sistemas': 0.01, 'IT Auditor': 0.01, 'Security Architect': 0.01, 'implementacion de sistemas informatico de salud -SAP -Funcional': 0.01, 'Gerente de Sistemas': 0.01, 'soporte  técnico nivel 3 (infraestructura)': 0.01, 'Seguridad informatica': 0.01, 'Comunicación / Redes sociales': 0.01, 'adm de infra': 0.01, 'Developer, DevOps': 0.01, 'Analista SAP Basis': 0.01, 'Soporte Tecnico SQL': 0.01, 'QA Automation ': 0.01, 'team leader': 0.01, 'AV Technical Support': 0.01, 'Sales Executive': 0.01, 'ETL DEVELOPER': 0.01, 'Security researcher': 0.01, 'Gerente de atracción de TI y Comercial': 0.01, 'Cybersecurity ': 0.01, 'Delivery Manager': 0.01, 'Varios': 0.01, 'Integration ': 0.01, 'Problem Manager': 0.01, 'Soporte IT LAB nivel 1, 2, 3 ': 0.01, 'Director of DevOps and IT': 0.01, 'Proyect Leader / Developer / Toolsmith': 0.01, 'Technical Owner': 0.01, 'Datasteward': 0.01, 'Seguridad Informática - Accesos': 0.01, 'IPM': 0.01, 'Esp. Telecomunicaciones': 0.01, 'Agile coach': 0.01, 'QA - Automation Engineer': 0.01, 'Ad Tech': 0.01, 'Trainee etl': 0.01, 'Data Governance Specialist': 0.01, 'Jefe de canales digitales': 0.01, 'Ingeniero en Seguridad Informatica': 0.01, 'Incident&Risk Leader': 0.01, 'Machine Learning Engineer': 0.01, 'Developer/DevOps': 0.01, 'UX User Research': 0.01, 'UX Leader': 0.01, 'IT Operations Analyst': 0.01, 'Customer success manager': 0.01, 'Marketing': 0.01, 'Analista mainframe': 0.01, 'Application DBA': 0.01, 'Network Analyst Security': 0.01, 'uxui': 0.01, 'CyberSecurity': 0.01, 'Tech Lead / Arquitecto': 0.01, 'Consultor Senior - Especialista en Ciberseguridad': 0.01, 'Qa lead': 0.01, 'Service Delivery Manager, Application Support, ITGC': 0.01, 'Administrador de Windows Server - Cloud': 0.01, 'Analista contable ': 0.01, 'Servicio técnico ': 0.01, 'Functional Analyst Jr': 0.01, 'Operation Lead': 0.01, 'Cloud Admin': 0.01, 'Technical Support': 0.01, 'Analista IT': 0.01, 'Integration Developer': 0.01, 'Profesor de Tecnología de la Información': 0.01, 'AppDynamics Engineer': 0.01, 'Research': 0.01, 'Functional': 0.01, 'Technical Account Manager': 0.01, 'Analista de sistema': 0.01, 'Ingeniero de Laboratorio': 0.01, 'Gerente': 0.01, 'Atlassian Specialist': 0.01, 'RPA & ETL Developer': 0.01, 'mezcla de sysadmin, networking, dba... de todo un poco': 0.01, 'FULL STACK Y BI': 0.01, 'NLP Analyst': 0.01, 'devops': 0.01, 'Analista de metodología': 0.01, 'Computational Linguist Junior': 0.01, 'Analista NPL': 0.01, 'Consultor de Implementación': 0.01, 'NOC': 0.01, 'analista de sistemas': 0.01, 'Trafficker': 0.01, 'Calidad': 0.01, 'RRHH': 0.01, 'Creative Copywriter': 0.01, 'Pipeline Technical Artist': 0.01, 'Desarrollador plsql + Desarrollador web + soporte-analista funcional': 0.01, 'Analista Seguridad informatica': 0.01, 'Sr Staff engineer': 0.01, 'Tech Manager': 0.01, 'Analista funcional sr': 0.01, 'Jefe de it': 0.01, 'Ingeniero de soporte': 0.01, 'Gerente de Atracción de talentos y comercial': 0.01, 'Product designer': 0.01, 'Senior Product Owner': 0.01, 'Product support': 0.01, 'Cloud Engineer': 0.01, 'Ingeniero en informatica': 0.01, 'Responsable de Marketing': 0.01, 'Data Modeling Engineer': 0.01, 'CTO': 0.01, 'Cloud admin': 0.01, 'analisis funcional': 0.01, 'Media comunnications': 0.01, 'Analyst': 0.01, 'UI ': 0.01, 'Jefe de Soporte y Operaciones': 0.01, 'Soy el dpto de sistemas en una escuela de 80 pc y 400 por wifi..hago todo': 0.01, 'Software engineer': 0.01, 'Cyber security': 0.01, 'Analytics Engineer': 0.01, 'conversational designer': 0.01, 'administrativo': 0.01, 'Access Managment Sr': 0.01, 'Sistemas': 0.01, 'Productora de Eventos': 0.01, 'IT Specialist': 0.01, 'Product Analyst': 0.01, 'Soporte técnico': 0.01, 'Support Senior': 0.01, 'Soporte Transaccional': 0.01, 'suport L2': 0.01, 'ERP Developer': 0.01, 'RPA DEVELOPER': 0.01, 'Test Automation Engineer': 0.01, 'Field Operations / Telecommunications': 0.01, 'Research Engineer': 0.01, 'Responsable de área de sistemas ': 0.01, 'Soporte Nivel 2': 0.01, 'Encargado Área de Sistemas': 0.01, 'Atlassian Consultant': 0.01, 'Business Analyst y Scrum Master': 0.01, 'Noc ': 0.01, 'full stack developer': 0.01, 'SupportEngineer': 0.01, 'QA Lead': 0.01, 'Docencia': 0.01, 'CloudEngineer/Dev/DevOps': 0.01, 'artist': 0.01, 'Product Lead': 0.01, 'Team Lead': 0.01, 'Project Manager, Product Manager, Developer, SRE': 0.01, 'Tecnico telecomunicaciones': 0.01, 'Laboratorio universitario': 0.01, 'Administrativo ': 0.01, 'SITE SUPPORT': 0.01, 'soporte técnico': 0.01, 'Wordpress': 0.01, 'Cloud': 0.01, 'IT Services': 0.01, 'Lead Data Engineer': 0.01, 'Project Leader': 0.01, 'ADMINISTRATIVA': 0.01, 'CRO': 0.01, 'Trainee': 0.01, 'Security Engineer': 0.01, 'Operador NOC': 0.01, 'jefe de sistemas': 0.01, 'tecnico de calle': 0.01, 'redactor y editor, diseño, contenidos': 0.01, 'Product Security': 0.01, 'On Site Support': 0.01, 'SAP Basis administrator': 0.01, 'CRM developer': 0.01, 'Integrator': 0.01, 'Operador noc': 0.01, 'Administrativa ': 0.01, 'Soporte Tecnico de Infraestructura': 0.01, 'ADMINISTRATIVO DE DEPOSITO': 0.01, 'Postproducer': 0.01, 'DevOps, Desarrollo, Diseño, Instalo arquitectura, Monitoreo, etc': 0.01, 'Systems integration analyst': 0.01, 'People Care': 0.01, 'Docente Universitario': 0.01, 'Helpdesl / Tecnico en Reparacion de PC, Notebooks e impresoras / Tecnico instalador de HFC y FTTH': 0.01, 'Security Analist': 0.01, 'De todo un poco': 0.01, 'Fullstack': 0.01, 'soporte tecnico': 0.01, 'Especialista en Yacimiento Digital': 0.01, 'mezcla entre helpdesk y admin base de datos': 0.01, 'Productivity & collaboration': 0.01, 'DBA / Developer': 0.01, 'Ayudante en cursos de programación': 0.01, 'Administrador de sistema ERP': 0.01, 'Growth Engineer ': 0.01, 'Programador': 0.01, 'Tecnology': 0.01, 'Cloud engineer': 0.01, 'Jefe división Informática': 0.01, 'subject matter expert': 0.01, 'BI Engineer': 0.01, 'de todo': 0.01, 'Analista funcional ': 0.01, 'Digital Marketing': 0.01, 'Analista funcional y coordinadora de grupo de mantenimiento ': 0.01, 'TI-Infraestructura': 0.01, 'Security Research': 0.01, 'Support': 0.01, 'Responsable it': 0.01, 'Profesor de Informática': 0.01, 'FrontEnd Chapter Lead': 0.01, 'software ingeniero': 0.01, 'Tutor': 0.01, 'Technical support (not help desk)': 0.01, 'Principal SE': 0.01, 'BI Developer': 0.01, 'Architecture engineering ': 0.01, 'PMO Manager': 0.01, 'Instructor': 0.01, 'Chapter Lead': 0.01, 'Programador de automatas': 0.01, 'Responsable de Infraestructura': 0.01, 'Deposito': 0.01, 'UI - frontend': 0.01, 'CIO': 0.01, 'Cashier': 0.01, 'Operations Lead': 0.01, 'Freelance': 0.01, 'Application Support': 0.01, 'DBA+frontend': 0.01, 'Education': 0.01, 'IT Support': 0.01, 'Business Analyst, QA / Tester, Project Manager,Product Manager': 0.01, 'Referente de area ': 0.01, 'Desarrollos de modelos fisicos en C, C++ o Python, para ser integrados en un software de simulacion de vuelo': 0.01, 'administracion': 0.01, 'Redacción': 0.01, 'tecnico': 0.01, 'Administración': 0.01, 'redactor creativo': 0.01, 'Telecomunicaciones ': 0.01, 'Desarrollador ETL': 0.01, 'Analista implementador': 0.01, 'Jefe de Área de Sistemas': 0.01, 'Estructurado': 0.01, 'RPA Developer': 0.01, 'Soporte de Campo': 0.01, 'Implementador de sistemas': 0.01, 'Auditoria': 0.01, 'Ingeniero Electrónico': 0.01, 'Implementador de Sistemas': 0.01, 'Administrativo': 0.01, 'Implementador': 0.01, 'SysAdmin / Storage / Backup / Networking': 0.01, 'Community manager en IT': 0.01, 'TI generalista': 0.01, 'FrontEnd Developer': 0.01, 'Atención al cliente en Naranja X': 0.01}\n"
     ]
    }
   ],
   "source": [
    "print(f'Participación por rol: {participation_roles}') #Arreglar y formatear mejor el print"
   ]
  },
  {
   "cell_type": "markdown",
   "id": "57b2b712",
   "metadata": {},
   "source": [
    "4. Printear porcentaje de respuesta para las preguntas: \n",
    "* ¿Contribuís a proyectos Open Source?\n",
    "* ¿Programás por hobbie?"
   ]
  },
  {
   "cell_type": "code",
   "execution_count": 12,
   "id": "8609f19d",
   "metadata": {},
   "outputs": [],
   "source": [
    "# Consideré hacer una lista paraa cada una de las opciones (Empty, yes, no), pero para evitar sobrepopular de variables me decidí por dos diccionarios \n",
    "#Un diccionario para open source y otro para \"programar por hobbie\" con cada una de las opciones como keys, y la cantidad de respuestas como values                                \n",
    "            \n",
    "opensource_proy = []\n",
    "program_hobbie = []\n",
    "\n",
    "for i, answer in enumerate(all_answers):\n",
    "    opensource_proy.append(all_answers[i]['¿Contribuís a proyectos open source?'])\n",
    "    program_hobbie.append(all_answers[i]['¿Programás como hobbie?'])\n",
    "    \n",
    "\n",
    "counter_opensource_proy = collections.Counter(opensource_proy)\n",
    "counter_opensource_proy['n/a'] = counter_opensource_proy.pop('') #Cambiar key vacía\n",
    "\n",
    "opensource_answered = counter_opensource_proy['Sí'] + counter_opensource_proy['No'] #Cuántos efectivamente respondieron la pregunta\n",
    "\n",
    "opensource_yes_to_total = percent(counter_opensource_proy['Sí'],len(opensource_proy))\n",
    "#print(opensource_yes_to_total)\n",
    "\n",
    "opensource_yes_to_answered = percent(counter_opensource_proy['Sí'],opensource_answered)\n",
    "#print(opensource_yes_to_answered)\n",
    "\n",
    "\n"
   ]
  },
  {
   "cell_type": "code",
   "execution_count": 13,
   "id": "7d15f09b",
   "metadata": {},
   "outputs": [],
   "source": [
    "counter_program_hobbie = collections.Counter(program_hobbie)\n",
    "counter_program_hobbie['n/a'] = counter_program_hobbie.pop('') #Cambiar key vacía\n",
    "\n",
    "program_hobbie_answered = counter_program_hobbie['Sí'] + counter_program_hobbie['No'] #Cuántos efectivamente respondieron la pregunta\n",
    "\n",
    "program_hobbie_yes_to_total = percent(counter_program_hobbie['Sí'],len(program_hobbie))\n",
    "#print(program_hobbie_yes_to_total)\n",
    "\n",
    "program_hobbie_yes_to_answered = percent(counter_program_hobbie['Sí'],program_hobbie_answered)\n",
    "#print(program_hobbie_yes_to_answered)\n"
   ]
  },
  {
   "cell_type": "code",
   "execution_count": 14,
   "id": "84476f08",
   "metadata": {},
   "outputs": [
    {
     "name": "stdout",
     "output_type": "stream",
     "text": [
      "El 7.57% del total del participantes de la encuesta dijeron que contribuyen a proyectos open source. Si tomamos en cuenta solo a los que respondieron ese punto, el porcentaje de respuestas afirmativas es de 14.97% \n",
      "El 28.34% del total del participantes de la encuesta dijeron que programan por hobbie. Si tomamos en cuenta solo a los que respondieron ese punto, el porcentaje de respuestas afirmativas es de 56.06% \n"
     ]
    }
   ],
   "source": [
    "print(f\"El {opensource_yes_to_total}% del total del participantes de la encuesta dijeron que contribuyen a proyectos open source. Si tomamos en cuenta solo a los que respondieron ese punto, el porcentaje de respuestas afirmativas es de {opensource_yes_to_answered}% \")\n",
    "\n",
    "print(f\"El {program_hobbie_yes_to_total}% del total del participantes de la encuesta dijeron que programan por hobbie. Si tomamos en cuenta solo a los que respondieron ese punto, el porcentaje de respuestas afirmativas es de {program_hobbie_yes_to_answered}% \")"
   ]
  },
  {
   "cell_type": "markdown",
   "id": "e2c8ab67",
   "metadata": {},
   "source": [
    "5. Printear porcentaje por seniority según años de experiencia, el mapeo es:\n",
    "```\n",
    "Junior: de 0 hasta 2 años.\n",
    "Semi-Senior: de 2 años inclusive hasta 5 años.\n",
    "Senior: desde 5 años inclusive.\n",
    "```"
   ]
  },
  {
   "cell_type": "code",
   "execution_count": 15,
   "id": "2f0c4551",
   "metadata": {},
   "outputs": [],
   "source": [
    "#Sets con cada valor de seniority, para poder generar las condiciones para crear el diccionario\n",
    "# hay respuestas con decimales que van a parar a Senior. No sé cómo cambiarlo\n",
    "\n",
    "\n",
    "junior = {'0','1'}\n",
    "ssr = {'2', '3', '4'}\n",
    "    \n",
    "seniority_dict = {}\n",
    "for i, answer in enumerate(all_answers):\n",
    "    if all_answers[i]['Años de experiencia'] in junior:\n",
    "        seniority_dict.setdefault('Junior', []).append(all_answers[i]['Años de experiencia'])\n",
    "    elif all_answers[i]['Años de experiencia'] in ssr:\n",
    "        seniority_dict.setdefault('Semi-Senior', []).append(all_answers[i]['Años de experiencia'])\n",
    "    else:\n",
    "        seniority_dict.setdefault('Senior', []).append(all_answers[i]['Años de experiencia'])\n",
    "        \n",
    "junior_percent = percent(len(seniority_dict['Junior']), len(all_answers))\n",
    "ssr_percent = percent(len(seniority_dict['Semi-Senior']), len(all_answers))\n",
    "sr_percent = percent(len(seniority_dict['Senior']), len(all_answers))"
   ]
  },
  {
   "cell_type": "code",
   "execution_count": 16,
   "id": "b2434797",
   "metadata": {},
   "outputs": [
    {
     "name": "stdout",
     "output_type": "stream",
     "text": [
      "Porcentaje de nivel Junior: 15.2%. \n",
      "Porcentaje de nivel Semi-Senior: 26.0%.\n",
      "Porcentaje de nivel Senior: 58.8%.\n"
     ]
    }
   ],
   "source": [
    "print(f'''Porcentaje de nivel Junior: {junior_percent}%. \n",
    "Porcentaje de nivel Semi-Senior: {ssr_percent}%.\n",
    "Porcentaje de nivel Senior: {sr_percent}%.''')"
   ]
  },
  {
   "cell_type": "markdown",
   "id": "c1133d3e",
   "metadata": {},
   "source": [
    "6. Printear porcentaje de personas encuestadas por años en la compañía actual y por años en el puesto actual."
   ]
  },
  {
   "cell_type": "code",
   "execution_count": 39,
   "id": "ac4c7bb0",
   "metadata": {},
   "outputs": [],
   "source": [
    "current_company = []\n",
    "current_role = []\n",
    "\n",
    "for i, answer in enumerate(all_answers):\n",
    "    current_company.append(all_answers[i]['Años en la empresa actual'])\n",
    "    current_role.append(all_answers[i]['Años en el puesto actual'])\n",
    "        \n",
    "\n",
    "counter_current_company = collections.Counter(current_company)\n",
    "counter_current_role = collections.Counter(current_role)\n",
    "\n",
    "participation_current_role = {}\n",
    "\n",
    "for item in counter_current_company:\n",
    "    participation = percent(counter_current_company[item],len(current_company))\n",
    "    participation_current_company[item] = participation\n",
    "    participation_current_company = dict(sorted(participation_current_company.items(), key=lambda item: item[1], reverse=True))\n",
    "    \n",
    "for item in counter_current_role:\n",
    "    participation = percent(counter_current_role[item],len(current_role))\n",
    "    participation_current_role[item] = participation\n",
    "    participation_current_role = dict(sorted(participation_current_role.items(), key=lambda item: item[1], reverse=True))\n",
    "\n",
    "#participation_current_company\n",
    "#participation_current_role"
   ]
  },
  {
   "cell_type": "code",
   "execution_count": 41,
   "id": "7d098c56",
   "metadata": {},
   "outputs": [
    {
     "name": "stdout",
     "output_type": "stream",
     "text": [
      "Participación por años en el rol: {'0': 30.4, '1': 18.69, '2': 16.49, '3': 10.21, '4': 5.28, '5': 5.15, '6': 2.81, '10': 2.55, '8': 1.53, '7': 1.51, '1.5': 0.9, '12': 0.7, '15': 0.7, '9': 0.57, '11': 0.41, '14': 0.33, '13': 0.28, '20': 0.22, '2.5': 0.19, '16': 0.13, '1.6': 0.12, '18': 0.12, '3.5': 0.1, '25': 0.07, '17': 0.07, '1.7': 0.04, '21': 0.04, '1.9': 0.04, '19': 0.04, '1.8': 0.03, '0.5': 0.03, '4.5': 0.03, '22': 0.03, '3.4': 0.03, '28': 0.03, '80': 0.01, '7.5': 0.01, '24': 0.01, '1.4': 0.01, '33': 0.01, '1.3': 0.01, '27': 0.01, '0.75': 0.01}\n",
      "Participación por años en la empresa: {'0': 36.69, '1': 14.82, '2': 14.27, '3': 8.2, '4': 4.27, '5': 4.11, '6': 2.61, '10': 2.1, '8': 1.98, '7': 1.65, '9': 1.14, '1.5': 1.0, '15': 0.92, '11': 0.87, '12': 0.84, '14': 0.61, '13': 0.61, '16': 0.51, '20': 0.48, '2.5': 0.33, '18': 0.25, '17': 0.22, '25': 0.17, '21': 0.17, '22': 0.16, '3.5': 0.15, '1.6': 0.13, '1.7': 0.09, '1.8': 0.06, '19': 0.06, '23': 0.06, '28': 0.04, '24': 0.04, '1.9': 0.04, '26': 0.04, '4.5': 0.04, '00': 0.03, '1.3': 0.03, '3.4': 0.03, '30': 0.01, '81': 0.01, '7.5': 0.01, '2021': 0.01, '0.7': 0.01, '4.75': 0.01, '100': 0.01, '3.7': 0.01, '0.6': 0.01, '32': 0.01, '0.5': 0.01, '2.3': 0.01, '35': 0.01}\n"
     ]
    }
   ],
   "source": [
    "print(f'Participación por años en el rol: {participation_current_role}') #Arreglar y formatear mejor el print\n",
    "print(f'Participación por años en la empresa: {participation_current_company}')"
   ]
  },
  {
   "cell_type": "markdown",
   "id": "75041338",
   "metadata": {},
   "source": [
    "7. Printear porcentajes de nivel de educación formal y estado, es decir: % educación secundaria, terciaria, universitaria, postgrado, doctorado, postdoctorado, completo, incompleto y en curso para cada uno."
   ]
  },
  {
   "cell_type": "code",
   "execution_count": 17,
   "id": "7dbeb98c",
   "metadata": {},
   "outputs": [
    {
     "data": {
      "text/plain": [
       "\"\\neducation_lvl = []\\n\\nfor i, answer in enumerate(all_answers):\\n    if all_answers[i]['Nivel de estudios alcanzado'] not in education_lvl:\\n        education_lvl.append(all_answers[i]['Nivel de estudios alcanzado'])\\n\\neducation_state = {}\\n\\nfor i, answer in enumerate(all_answers):\\n    if all_answers[i]['Nivel de estudios alcanzado'] in education_lvl:\\n        \\n\""
      ]
     },
     "execution_count": 17,
     "metadata": {},
     "output_type": "execute_result"
    }
   ],
   "source": [
    "\n",
    "education_lvl = []\n",
    "\n",
    "for i, answer in enumerate(all_answers):\n",
    "    if all_answers[i]['Nivel de estudios alcanzado'] not in education_lvl:\n",
    "        education_lvl.append(all_answers[i]['Nivel de estudios alcanzado'])\n",
    "\n",
    "education_state = {}\n",
    "\n",
    "for i, answer in enumerate(all_answers):\n",
    "    if all_answers[i]['Nivel de estudios alcanzado'] in education_lvl:\n",
    "\n"
   ]
  },
  {
   "cell_type": "markdown",
   "id": "0c9ff17e",
   "metadata": {},
   "source": [
    "8. Formatear las carreras universitarias:\n",
    "- Nombres capitalizados\n",
    "- Reemplazar vocales con tilde por vocales sin tilde.\n",
    "- Reemplazar `ñ` por `n`\n",
    "- *lic*, *lic.* por Licenciatura\n",
    "- *tec*, *tec.* por Tecnucatura\n",
    "* *cs, *cs.* por Ciencias\n",
    "* *ed, ed.* por Educación\n",
    "* Transformaciones que se consideren necesarias\n",
    "\n",
    "Printear porcentaje según carrera"
   ]
  },
  {
   "cell_type": "code",
   "execution_count": 18,
   "id": "5dd48176",
   "metadata": {},
   "outputs": [],
   "source": [
    "def format_str(word:str):\n",
    "    '''\n",
    "    ''' \n",
    "    word = word.lower().replace('.', '').replace(',', '')\n",
    "    replace = (('á', 'a'), ('é', 'e'), \n",
    "               ('í', 'i'), ('ó', 'o'), \n",
    "               ('ú', 'u'), ('ñ', 'n'),\n",
    "               ('lic ', 'licenciatura'), ('tec ', 'tecnicatura'), \n",
    "               ('cs ', 'ciencias'), ('ed ', 'educacion'))\n",
    "    for a, b in replace:\n",
    "        word = word.replace(a , b)\n",
    "    \n",
    "    word = word.capitalize()\n",
    "\n",
    "    return word\n"
   ]
  },
  {
   "cell_type": "code",
   "execution_count": 19,
   "id": "eb7005b9",
   "metadata": {},
   "outputs": [],
   "source": [
    "for answer in all_answers:\n",
    "    for value in answer['Carrera']:\n",
    "        answer['Carrera'] = format_str(answer['Carrera'])\n",
    "        \n",
    "careers = []\n",
    "\n",
    "for i, answer in enumerate(all_answers):\n",
    "    careers.append(all_answers[i]['Carrera'])\n",
    "    \n",
    "#print(careers)\n",
    "\n"
   ]
  },
  {
   "cell_type": "code",
   "execution_count": 20,
   "id": "6a41ee8f",
   "metadata": {},
   "outputs": [],
   "source": [
    "counter_careers = collections.Counter(careers)\n",
    "counter_careers['n/a'] = counter_careers.pop('')\n",
    "\n",
    "#print(counter_careers)\n",
    "participation_careers = {}\n",
    "for career in counter_careers:\n",
    "    participation = percent(counter_careers[career],len(careers))\n",
    "    participation_careers[career] = participation\n",
    "    participation_careers = dict(sorted(participation_careers.items(), key=lambda item: item[1], reverse=True))\n",
    "    \n",
    "#print(participation_careers)\n",
    "\n",
    "#PROBAR HACERLO SOLO CON LOS QUE NO DEJARON LA RESPUESTA EN BLANCO"
   ]
  },
  {
   "cell_type": "code",
   "execution_count": 21,
   "id": "c2c89420",
   "metadata": {},
   "outputs": [
    {
     "name": "stdout",
     "output_type": "stream",
     "text": [
      "Participación según carrera: {'n/a': 51.89, 'Ingenieria en sistemas de informacion': 9.14, 'Ingenieria en informatica': 5.46, 'Analista de sistemas': 4.18, 'Licenciatura en ciencias de la computacion': 2.72, 'Licenciatura en sistemas de informacion': 2.72, 'Licenciatura en informatica': 2.07, 'Tecnicatura en programacion': 1.63, 'Ingenieria electronica': 1.44, 'Ingenieria en computacion': 1.35, 'Diseno grafico': 1.19, 'Tecnicatura superior en programacion': 1.14, 'Licenciatura en administracion': 0.83, 'Tecnicatura en informatica': 0.76, 'Ingenieria industrial': 0.57, 'Licenciatura en analisis de sistemas': 0.57, 'Analista programador': 0.54, 'Ingenieria en software': 0.51, 'Analista programador universitario': 0.48, 'Ingenieria en telecomunicaciones': 0.47, 'Analista de computacion': 0.42, 'Tecnicatura superior en sistemas informaticos': 0.42, 'Diseno multimedial': 0.41, 'Tecnicatura en sistemas': 0.39, 'Tecnicatura superior en analisis de sistemas': 0.33, 'Analista universitario de sistemas': 0.29, 'Tecnicatura electronica': 0.26, 'Telecomunicaciones': 0.25, 'Tecnicatura en computacion': 0.25, 'Diseno de imagen y sonido': 0.16, 'Psicologia': 0.16, 'Sistemas de informacion': 0.13, 'Licenciatura en psicologia': 0.12, 'Diseno industrial': 0.1, 'Licenciatura en fisica': 0.09, 'Licenciaturaen psicologia': 0.09, 'Marketing': 0.09, 'Contador publico': 0.07, 'Licenciatura en sistemas': 0.07, 'Licenciatura en ciencia politica': 0.07, 'Licenciatura en ciencias de la comunicacion': 0.06, 'Licenciatura en economia': 0.06, 'Sociologia': 0.06, 'Tecnicatura en desarrollo web': 0.06, 'Letras': 0.06, 'Comunicacion social': 0.06, 'Licenciatura en comunicacion': 0.06, 'Profesorado de ingles': 0.06, 'Economia': 0.04, 'Ingenieria mecatronica': 0.04, 'Arquitectura': 0.04, 'Ingenieria quimica': 0.04, 'Licenciatura en relaciones del trabajo': 0.04, 'Medicina': 0.04, 'Ingenieria de sonido': 0.04, 'Licenciatura en ciencias matematicas': 0.04, 'Licenciatura en ciencias biologicas': 0.04, 'Licenciatura en sociologia': 0.04, 'Licenciatura en ciencias de datos': 0.04, 'Licenciatura en artes multimediales': 0.04, 'Diseno web': 0.04, 'Licenciatura en relaciones internacionales': 0.04, 'Ninguna': 0.04, 'Licenciatura en publicidad': 0.04, 'Licenciatura en gestion de tecnologia': 0.04, 'Artes visuales': 0.04, 'Licenciatura en ciencias fisicas': 0.04, 'Licenciatura en comunicacion social': 0.04, 'Licenciatura en recursos humanos': 0.04, 'Licenciatura en bioinformatica': 0.03, 'Licenciatura en matematicas': 0.03, 'Ingenieria en tecnologias de la informacion': 0.03, 'Ingenieria civil': 0.03, 'Ingenieria de sistemas': 0.03, '-': 0.03, 'Recursos humanos': 0.03, 'Licenciatura en ciencia de datos': 0.03, 'Rrii': 0.03, 'Ingenieria mecanica': 0.03, 'Tecnicatura en desarrollo de videojuegos': 0.03, 'Fisica': 0.03, 'Profesorado de historia': 0.03, 'Licenciatura en gestion de la tecnologia': 0.03, 'Abogacia': 0.03, 'Licenciatura en biotecnologia': 0.03, 'Rrhh': 0.03, 'Ciencia politica': 0.03, 'Licenciatura en ciencias de la comunicacion social': 0.03, 'Bioingenieria': 0.03, 'Edicion': 0.03, 'Licenciatura en tecnologia de la informacion': 0.03, 'Actuario': 0.03, 'Licenciatura en matematica': 0.03, 'Licenciaturaen relaciones del trabajo': 0.03, 'Tecnicatura en desarrollo de software': 0.03, 'Relaciones publicas': 0.03, 'Relaciones internacionales': 0.03, 'Administracion': 0.03, 'Ingenieria biomedica': 0.03, 'Licenciatura en relaciones publicas e institucionales': 0.03, 'Tecnico en diseno y programacion de videojuegos': 0.03, 'Licenciaturaen rrhh': 0.03, 'Ingenieria en sistemas': 0.03, 'Mba': 0.03, 'Bootcamp en programacion web full stack': 0.01, 'Ingenieria ejecucion electronica': 0.01, 'Ingenieria administrativa': 0.01, 'Tecnico medio en soporte en informatica': 0.01, 'Licenciaturaen ciencias fiscales mencion aduana y comercio ': 0.01, 'Hacking': 0.01, 'Ingenieria en bionica': 0.01, 'Matematicas': 0.01, 'Ingenieria de sistemas y computacion ': 0.01, 'Front end development': 0.01, 'Analista en infraestructura informatica': 0.01, 'Tecnicatura en diseno web': 0.01, 'Analista en infraestructura': 0.01, 'Licenciaturaen redes y comunicacion de datos ': 0.01, 'Licenciaturapsicologia': 0.01, 'Licenciaturaen biotecnologia': 0.01, 'Electromecanica': 0.01, 'Geologia ': 0.01, 'Analista en redes informaticas': 0.01, 'Certifieducaciontech developer': 0.01, 'Licenciaturaen comunicacion': 0.01, 'Licenciaturaen sociologia': 0.01, 'Licenciaturaen rrll': 0.01, 'Licenciaturaen historia': 0.01, 'Tecnico universitario en desarrollo web': 0.01, 'Ninguna de las anteriores': 0.01, 'Licenciaturaen comercializacion': 0.01, 'Licenciatura en turismo': 0.01, 'Tecnicatura universitaria en sistemas informaticos': 0.01, 'Licenciatura en gestion de sistemas': 0.01, 'Tecnicatura superior en soporte de infraestructuras it ': 0.01, 'Licenciatura en tecnologias de informacion ': 0.01, 'Tecnicatura en infraestructura tecnologica ': 0.01, 'Conservatorio de musica': 0.01, 'Diseno de interiores': 0.01, 'Licenciatura en musica': 0.01, 'Ciencias biologicas ': 0.01, 'Ingenieria de sonido ': 0.01, 'Licenciaturaadmin': 0.01, 'Licenciaturaen gestion amb + mbt': 0.01, 'Turismo': 0.01, 'Tecnico de sonido': 0.01, 'Licenciatura en administracion de sistemas y empresas': 0.01, 'Biologia': 0.01, 'Arquitectura ': 0.01, 'No estudie': 0.01, 'Maestria en it': 0.01, 'Ciencias de la comunicacion': 0.01, 'Profesor de ingles': 0.01, 'Contaduria': 0.01, 'Licenciatura en publicidad y relaciones publicas': 0.01, 'Licenciaturarelaciones del trabajo diplomatura en usabilidad y accesibilidad ': 0.01, 'Estudio por academias virtuales': 0.01, 'Soy abogado haciendo un master en rrii': 0.01, 'Phd in computer science': 0.01, 'Medico informatico': 0.01, 'Comunicacion': 0.01, 'Filologia hispanica': 0.01, 'Gestion de medios y entretenimiento': 0.01, 'Soporte en infraestructuras': 0.01, 'Tenicatura en periodismo general': 0.01, 'Tecnicatura en infraestructuras de ti': 0.01, 'Ingenieria': 0.01, 'Licenciatura en geologia': 0.01, 'Licenciatura en ciencias quimicas + maestria en ciencia de datos': 0.01, 'Traductora publica ingles ': 0.01, 'Licenciatura en gestion de tecnologia informatica': 0.01, 'Cienciasde la comunicacion social': 0.01, 'Antropologia': 0.01, 'Licenciatura en estadistica': 0.01, 'Traductorado publico': 0.01, 'Tecnicatura superior en administracion de sistemas': 0.01, 'Decorador profesional': 0.01, 'Licenciaturaen gestion de la tecnologia': 0.01, 'Ingenieria aeronautica': 0.01, 'Tecnicatura en diseno de simuladores virtuales': 0.01, 'Tsp abandonada3x': 0.01, 'Filosofia': 0.01, 'Ingenieria sonido': 0.01, 'Diseno arquitectonico': 0.01, 'Tecnicatura en periodismo': 0.01, 'Geologia': 0.01, 'Diploma en experiencias digitales': 0.01, 'Veterinaria': 0.01, 'Tecnico electromecanico': 0.01, 'Licenciado en economia': 0.01, 'Periodismo': 0.01, 'Tecnico en sistemas': 0.01, 'Maestria en direccion estrategica y tecnologica': 0.01, 'Licenciaturaen matematicas': 0.01, 'Musica': 0.01, 'Tecnicatura en edicion uba': 0.01, 'Ingenieria electrica': 0.01, 'Licenciaturaen cienciasantropologicas': 0.01, 'Bachillerato': 0.01, 'Licenciatura en ciencias politicas': 0.01, 'Diseno y administracion de sitios web': 0.01, 'Licenciaturaen direccion escenica': 0.01, 'Derecho': 0.01, 'Bootcamp de desarrollo web': 0.01, 'Master in business and tech': 0.01, 'Sin titulo universitario': 0.01, 'Licenciaturaen estadistica': 0.01, 'Economicas': 0.01, 'Maestria en recursos humanos': 0.01, 'Licenciatura en ciencias quimicas ': 0.01, 'Licenciatura en comercializacion ': 0.01, 'Periodismo ': 0.01, 'Traductorado e interpretariado de ingles ': 0.01, 'Psicologia ': 0.01, 'Tecnico superior en informatica aplicada': 0.01, 'Tengo titulo de licencia en ciencias matematicas ': 0.01, 'Licenciatura en gestion de la informacion': 0.01, 'Fisica aplicada': 0.01, 'Trabajo social': 0.01, 'Productora y directora para radio y tv': 0.01, 'N/a': 0.01, 'Licenciaturaen geografia': 0.01, 'Contador': 0.01, 'Finanzas': 0.01, 'Tecnica electronica': 0.01, 'Tecnico superior en adm de la produccion grafica': 0.01, 'Licenciatura en sociologia - master en data science': 0.01, 'Ciencia de datos': 0.01, 'Licenciatura en administracion y sistemas': 0.01, 'Tecnico universitario en sonido': 0.01, 'Tecnicatura superior en analisis desarrollo y programacion de aplicaciones': 0.01, 'Desarrollo web y mobile': 0.01, 'Diseno grafico multimedial y analista de sistemas': 0.01, 'Publicidad': 0.01, 'Maestria ': 0.01, 'Traduccion': 0.01, 'Carrera de grado en curso': 0.01, 'Linguistica': 0.01, 'Licenciaturaen comunicacion  multimedia': 0.01, 'Diseno y administracion web': 0.01, 'Administracion bancaria': 0.01, 'Traductorado y psicologia social': 0.01, 'Licenciatura y profesorado en artes (orientacion musica)': 0.01, 'Licenciado en tecnologias de la informacion': 0.01, 'Maestro mayor de obras': 0.01, 'Licenciado en ciencia politica': 0.01, 'Licenciaturaen artes electronicas': 0.01, 'Licenciaturahigiene y seguridad': 0.01, 'Ingenieria en sonido': 0.01, 'Video juegos': 0.01, 'Ing electrica': 0.01, 'Tecnicatura en software libre': 0.01, 'Licenciatura en quimica': 0.01, 'Profesor en disciplinas industriales ': 0.01, 'Ciencias de la comunicacion social ': 0.01, 'Licenciaturaen psicologia ': 0.01, 'Literatura': 0.01, 'Profesorado en ensenanza media y superior en matematicas': 0.01, 'Profesorado de educacion fisica': 0.01, 'Licenciatura en comunicacion audiovisual ': 0.01, 'Soy bachiller en humanidades y cienciassociales': 0.01, 'Sociologia ': 0.01, 'Licenciatura en gestion de sistemas de automatizacion y robotica': 0.01, 'Licenciatura en ciencias sociales': 0.01, 'Programador y disenador de simuladores virtuales': 0.01, 'Arte audiovisual': 0.01, 'Economia actualmente analista en sistemas': 0.01, 'Licenciatura en estadistica ': 0.01, 'Licenciatura en marketing ': 0.01, 'Licenciatura en matematica aplicada': 0.01, 'Licenciado en periodismo': 0.01, 'Marketing y administracion agroindustrial': 0.01, 'Tecnicatura superior en desarrollo de software': 0.01, 'Licenciatura en astronomia': 0.01, 'Contador publico ': 0.01, 'Tecnicatura en web': 0.01, 'Mg comunicacion social': 0.01, 'Licenciatura en gestion de recursos humanos': 0.01, 'Ingenieria electronica y telecomunicaciones 4to ingenieria en software 5to': 0.01, 'Profesorado de teatro': 0.01, 'Ingenieria en redes y comunicaciones': 0.01, 'Mg comunicacion estrategica': 0.01, 'Tecnicatura superior en inteligencia artificial y ciencia de datos': 0.01, 'Traduccion de ingles': 0.01, 'Tecnico en recursos humanos': 0.01, 'Traductora de ingles': 0.01, 'Licenciatura en tecnologia educativa': 0.01, 'Cisco': 0.01, 'Autodidacta': 0.01, 'Ing civil': 0.01, 'Tecnicatura universitaria en mecatronica': 0.01, 'Licenciatura en organizacion industrial': 0.01, 'Licenciatura en periodismo': 0.01, 'Licenciatura en finanzas': 0.01, 'Comunicacion audiovisual': 0.01, 'Licenciado en relaciones del trabajo': 0.01, 'Arq': 0.01, 'Corrector de textos': 0.01, 'Tecnicatura en soporte de infraestructura': 0.01, 'Licenciaturaen relaciones publicas': 0.01, 'Abogado ': 0.01, 'Biotecnologia': 0.01, 'Licenciatura en direccion de negocios': 0.01, 'Licenciaturas en ciencias matematicas ': 0.01, 'Comunicacion ': 0.01, 'Ceh cissp csfpc etc': 0.01, 'Relaciones laborales': 0.01, 'Administracion ': 0.01, 'Tecnico en comunicacion social': 0.01, 'Cloud administrator/ artes audiovisuales': 0.01, 'Cp': 0.01, 'Licenciatura en higiene y seguridad en el trabajo': 0.01, 'Diseno y programacion de simuladores virtuales': 0.01, 'Logistica': 0.01, 'Tecnicatura en desarrollo de paginas web': 0.01, 'Comunicacion social si comunicacion social': 0.01, 'Tecnicatura superior en automatizacion y robotica': 0.01, 'Comercio exterior ': 0.01, 'Ingenieria en sistemas ': 0.01, 'Diseno de videojuegos': 0.01, 'Licenciatura en comercio internacional': 0.01, 'Tecnicatura superior en desarrollo de software ': 0.01, 'No': 0.01, 'Licenciaturaen tecnologias educativas': 0.01, 'Diplomatura en ciencia de datos': 0.01, 'Tecnicatura superior en base de datos': 0.01, 'Tecnico superior en soporte de infraestructura': 0.01, 'Tecnicatura superior en redes informaticas': 0.01, 'Tecnicatura electromecanica': 0.01, 'Ingenieria quimica ': 0.01, 'Bioquimica': 0.01, 'Licenciatura en artes visuales ': 0.01, 'Analisis de sistemas licenciatura en psicologia': 0.01, 'Tecnicatura niversitaria en desarrollo de aplicaciones informaticas': 0.01, 'Profesorado de ingles ': 0.01, 'Magister en gestion de la seguridad de la informacion': 0.01, 'Relaciones del trabajo': 0.01, 'Traductor de ingles': 0.01, 'Grabacion y produccion musical': 0.01, 'X': 0.01, 'Licenciatura en geologia doctorado en ciencias naturales': 0.01, 'Ingeniero civil': 0.01, 'Tecnicatura en administracion de sistemas y software libre': 0.01, 'Imagen y sonido': 0.01, 'Licenciatura en recursos humanos ': 0.01, 'Tecnico universitario en desarrollo de software ': 0.01, 'Licenciaturaen ciencia politica': 0.01, 'Escuela de educacion tecnica': 0.01, 'Tecnicatura en marketing y publicidad digital': 0.01, 'Licenciaturaartes audiovisuales': 0.01, 'Tecnicatura superior en mecatronica': 0.01, 'Histotecnologia': 0.01, 'Tecnicatura universitaria en tecnologias de la informacion': 0.01, 'Tecnico superior en desarrollo de software ': 0.01, 'Tecnico superior en desarrollo de software': 0.01, 'Licenciado en turismo': 0.01, 'Disenador industrial': 0.01, 'Tecnicatura superior en tecnologias de la informacion': 0.01, 'Marketing y publicidad digital': 0.01, 'Licenciatura en historia': 0.01, 'Tecnico constructor mmo': 0.01, 'Cm': 0.01, 'Ingeneria en pesca': 0.01}\n"
     ]
    }
   ],
   "source": [
    "print(f'Participación según carrera: {participation_careers}') #Arreglar y formatear mejor el print"
   ]
  },
  {
   "cell_type": "markdown",
   "id": "69300083",
   "metadata": {},
   "source": [
    "9. Printear porcentaje de respuesta a las preguntas:\n",
    "- ¿Realizaste cursos de especialización?\n",
    "- Si realizaste, ¿Quién pagó por los cursos de especialización?"
   ]
  },
  {
   "cell_type": "code",
   "execution_count": 22,
   "id": "9fff4790",
   "metadata": {},
   "outputs": [
    {
     "name": "stdout",
     "output_type": "stream",
     "text": [
      "Counter({'n/a': 3396, 'Sí, de forma particular': 1731, 'No': 725, 'Sí, de forma particular, Sí, los pagó un empleador': 711, 'Sí, los pagó un empleador': 295, 'No, Sí, de forma particular': 9, 'No, Sí, los pagó un empleador': 2})\n"
     ]
    }
   ],
   "source": [
    "courses = []\n",
    "\n",
    "\n",
    "for i, answer in enumerate(all_answers):\n",
    "    courses.append(all_answers[i]['¿Realizaste cursos de especialización?'])\n",
    "\n",
    "counter_courses = collections.Counter(courses)\n",
    "counter_courses['n/a'] = counter_courses.pop('') #Cambiar key vacía\n",
    "\n",
    "print(counter_courses)\n",
    "\n",
    "#Hay respuestas que dicen NO,Si. El formulario deja seleccionar más de uno. Tomo el primero en el caso de los que dcen NO, y como una nueva opción en el caso de los que usaron as dos respuestas afirmativas\n"
   ]
  },
  {
   "cell_type": "markdown",
   "id": "f90027ef",
   "metadata": {},
   "source": [
    "10. Printear porcentaje por identidad de género y personas con discapacidad\n"
   ]
  },
  {
   "cell_type": "code",
   "execution_count": 28,
   "id": "dc2783c2",
   "metadata": {},
   "outputs": [
    {
     "data": {
      "text/plain": [
       "{'Varón Cis': 75.24,\n",
       " 'Mujer Cis': 16.16,\n",
       " 'Prefiero no decir': 4.11,\n",
       " 'No binarie': 0.73,\n",
       " 'Hombre': 0.58,\n",
       " 'Varón Trans': 0.2,\n",
       " 'Varon': 0.17,\n",
       " 'Masculino': 0.15,\n",
       " 'Varón': 0.15,\n",
       " 'Mujer': 0.1,\n",
       " 'Mujer Trans': 0.1,\n",
       " 'Travesti': 0.07,\n",
       " 'Varón ': 0.06,\n",
       " 'HOMBRE': 0.04,\n",
       " 'hombre': 0.04,\n",
       " '?': 0.03,\n",
       " 'Hombre ': 0.03,\n",
       " 'Macho Alfa': 0.03,\n",
       " 'Varon heterosexual': 0.03,\n",
       " 'Helicóptero Apache': 0.03,\n",
       " '.': 0.03,\n",
       " 'Ninguno': 0.01,\n",
       " 'Macho alfa lomo plateado': 0.01,\n",
       " 'X': 0.01,\n",
       " 'COMO ROMPEN LA PIJA CON ESTAS HUEVADAS DEL GÉNERO PROGRES DE MIERDA. 1)HOMBRE(+mujer identificandose como hombre) 2)MUJER(+hombre identificandose como mujer) 3)INDEFINIDO/NO-BINARIO': 0.01,\n",
       " 'MASCULINO': 0.01,\n",
       " 'XY': 0.01,\n",
       " 'Mujer ': 0.01,\n",
       " 'no se entiendo! Soy hombre, heterosexual y  me gustan las minas': 0.01,\n",
       " 'Hombre masculino': 0.01,\n",
       " 'Deberian colocar ademas de todo lo incluyente el clasico hombre y mujer': 0.01,\n",
       " 'Ni idea, no le doy hola a esas cosas.': 0.01,\n",
       " 'biológicamente hombre': 0.01,\n",
       " 'Ni idea, creia que era Hetero, pero bisexual me gusta mas': 0.01,\n",
       " 'macho alfa': 0.01,\n",
       " 'Hombre???': 0.01,\n",
       " 'no se que significa cada opción, así que no se': 0.01,\n",
       " 'wtf es esto? hombre': 0.01,\n",
       " 'Hombre (hay solo 2 generos biologicos y no deberian discriminar por preferencias sexuales, no aporta al supuesto gender pay gap)': 0.01,\n",
       " 'Masculino no pregunten pendejadas': 0.01,\n",
       " 'Macho lomo plateado': 0.01,\n",
       " 'Me rompe los huevos estas opciones. Soy masculino': 0.01,\n",
       " 'que es esto????': 0.01,\n",
       " 'No vendan humo con este tipo de opciones, no se paren arriba de la naturaleza.': 0.01,\n",
       " 'Que clase de pregunta es esta, importa lo que uno es o lo que uno sabe, soy felizmente casado con una maravillosa mujer con 3 hijas hermosas.': 0.01,\n",
       " 'Me identifico por mi nombre y apellido.': 0.01,\n",
       " 'Hombre normal heterosexual': 0.01,\n",
       " 'Me autopercibo jirafa': 0.01,\n",
       " 'Hombre heterosexual': 0.01,\n",
       " 'poyi': 0.01,\n",
       " 'Chupala': 0.01,\n",
       " 'Varon, a secas, me gustan las mujeres, cortemos con la boludes': 0.01,\n",
       " 'Normal, no raro como otros': 0.01,\n",
       " 'no me interesa los cartelitos': 0.01,\n",
       " 'que pelotudos, soy masculino ': 0.01,\n",
       " 'Hombre nada de Cis ': 0.01,\n",
       " 'nene': 0.01,\n",
       " 'Mujer/Fememino/Humano hembra. No se cual opción de arriba sería.': 0.01,\n",
       " 'Me indentifico como Masculino, uno de los dos sexos que existen.': 0.01,\n",
       " 'varon heterosexual ': 0.01,\n",
       " 'Agénero': 0.01,\n",
       " 'UNA PERONOLA GIRANDO EN CUATRO DIMENSIONES': 0.01,\n",
       " 'Que quilombo esto de los generos': 0.01,\n",
       " 'Que te importa': 0.01,\n",
       " 'No entiendo esta pregunta': 0.01,\n",
       " 'Hetero': 0.01,\n",
       " 'Un galline no binario': 0.01,\n",
       " 'cis': 0.01,\n",
       " 'Bisexual': 0.01,\n",
       " 'QUE PREGUNTA PELOTUDA': 0.01,\n",
       " 'helicóptero de combate': 0.01,\n",
       " 'Soy Varon': 0.01,\n",
       " 'Que ganas de joder con estas pavadas :P': 0.01,\n",
       " 'Algunos días como salame': 0.01,\n",
       " 'basta de boludeces': 0.01,\n",
       " 'Mujer Pan': 0.01,\n",
       " 'Humano': 0.01,\n",
       " 'Hombre, no inventen boludeces': 0.01,\n",
       " 'Genderqueer, y la pregunta anterior está mal redactada: o indican orientación o indican identidad de género (o separan en dos preguntas)': 0.01,\n",
       " 'que carajo es CIS? estan locos? sales de la panza y te ponen el genero?? esto se sale de control!!!': 0.01,\n",
       " 'Helicoptero de combate': 0.01,\n",
       " 'Que tiene que ver': 0.01,\n",
       " 'BI': 0.01,\n",
       " 'Hombre, zurdos pelotudos no inventen la rueda': 0.01,\n",
       " 'Varon la puta madre': 0.01,\n",
       " 'Irrelevante': 0.01,\n",
       " 'cactus': 0.01,\n",
       " 'Es complicado': 0.01,\n",
       " 'Solo hay 2 sexos hombre o mujer.': 0.01,\n",
       " 'hombre macho': 0.01,\n",
       " 'una ridiculez esta pregunta. Me es difícil entender donde poner que soy HOMBRE': 0.01,\n",
       " 'Oteo': 0.01,\n",
       " 'really? siguen con esta boludez?': 0.01,\n",
       " 'Normal': 0.01,\n",
       " 'Mujer NB': 0.01,\n",
       " 'Esto es una mierda': 0.01,\n",
       " 'Casi Normal': 0.01,\n",
       " 'Enserio?': 0.01,\n",
       " 'Un ornitorrinco pelotudos': 0.01,\n",
       " 'marica': 0.01,\n",
       " 'helicoptero de ataque': 0.01,\n",
       " 'Varon Heterosexual blanco, Agorista, Anarquista, Liberal': 0.01,\n",
       " 'Lesbiana': 0.01,\n",
       " 'hetero': 0.01,\n",
       " 'naaaaaaaaaaaaaaaaaaaaaaaaa': 0.01,\n",
       " 'Yo soy un pollo Marge!': 0.01,\n",
       " 'Varon heterosexual de pelo en pecho no entiendo que es cis corrigan eso': 0.01,\n",
       " 'Hombre, man, ¿qué son todos esos términos? ': 0.01,\n",
       " 'Macho alfa estilo cosaco': 0.01,\n",
       " 'furro (no hay pregunta más estúpida que ésta? acaso les paga algún colectivo LGTBQI? jajaja': 0.01,\n",
       " 'JAJAJAJA seriedad por favor....': 0.01,\n",
       " 'non binarie plus lgbt q + system.debug': 0.01,\n",
       " 'varon': 0.01,\n",
       " 'Sapiosexual (Bi).': 0.01,\n",
       " 'MACHO': 0.01,\n",
       " 'Que pelotudes': 0.01,\n",
       " 'ESTO ES DISCRIMINAR, NO SE PUEDE UTILIZAR ESTA INFORMACIÓN PARA GENERAR ESTADISTICAS': 0.01,\n",
       " 'El varon comun y corriente. No se que opcion es': 0.01,\n",
       " 'Chevy camaro': 0.01,\n",
       " 'Mujer ¯\\\\_(ツ)_/¯ ·': 0.01,\n",
       " 'muy heterosexual': 0.01,\n",
       " 'Que es todo esto? Tengo huevos y me gustan las mujeres.': 0.01,\n",
       " 'Cis? O sea no quieren etiquetas y me tengo que poner una etiqueta': 0.01,\n",
       " 'No entiendo': 0.01,\n",
       " 'Hombre bisexual': 0.01,\n",
       " 'Hombre Heterosexual': 0.01,\n",
       " 'MUJER SEXO FEMENINO DEJENSE DE JODER CON GENERO, ES SEXO!!! EN DONDE VAMOS A TERMINAR CON ESTAS PAVADAS DIO MIO!!!': 0.01,\n",
       " 'Gay': 0.01,\n",
       " 'N/A': 0.01,\n",
       " 'Mujer.': 0.01,\n",
       " 'Trans queer': 0.01,\n",
       " 'alienigena.. que carajo es esto? en serio.': 0.01,\n",
       " 'Hola': 0.01,\n",
       " 'Dejen de pelotudear con estás pijas': 0.01,\n",
       " 'Tester': 0.01,\n",
       " 'Oso panda rengo': 0.01,\n",
       " 'Hombre. Punto. 🤦🏻\\u200d♂️ Son impresentable con este punto ': 0.01,\n",
       " 'Masculino y punto': 0.01,\n",
       " 'quetimporta': 0.01,\n",
       " 'Para q preguntan esto??? Que tiene q ver??? Nací con pito, por eso soy hombre. Tan dificil es??? Ademas, a quien le importa como te \"identificas\"???': 0.01,\n",
       " 'A mi no me asignaron nada. Nací como la biología de mi madre se le ocurrió crearme.': 0.01,\n",
       " 'Fiat uno': 0.01,\n",
       " 'Tortuga Ninja': 0.01,\n",
       " 'QUE ESTA MIERDA': 0.01,\n",
       " 'x': 0.01,\n",
       " 'Varón (Supongo que Cis, no se que significa)': 0.01,\n",
       " 'no encuentro la clasificacion con la que me identifico, y no pienso usar la clasificacion que pretenden': 0.01,\n",
       " 'soy hombre LRPMQTP': 0.01,\n",
       " 'Helicoptero apache (nah mentira, soy hombre)': 0.01,\n",
       " 'Helicóptero de combate': 0.01,\n",
       " '\"Que le fue asignado al nacer\"?? WTF? Tengo pito y me gustan las chicas. Lo que hace miles de años se conocía como: Hombre': 0.01,\n",
       " 'Persona normal': 0.01,\n",
       " '1': 0.01}"
      ]
     },
     "execution_count": 28,
     "metadata": {},
     "output_type": "execute_result"
    }
   ],
   "source": [
    "gender_answer = []\n",
    "\n",
    "for i, answer in enumerate(all_answers):\n",
    "    gender_answer.append(all_answers[i]['Me identifico'])\n",
    "    \n",
    "#print(gender_answer)\n",
    "\n",
    "counter_gender = collections.Counter(gender_answer)\n",
    "\n",
    "participation_gender = {}\n",
    "\n",
    "for gender in counter_gender:\n",
    "    participation = percent(counter_gender[gender],len(gender_answer))\n",
    "    participation_gender[gender] = participation\n",
    "    participation_gender = dict(sorted(participation_gender.items(), key=lambda item: item[1], reverse=True))\n",
    "\n",
    "participation_gender"
   ]
  }
 ],
 "metadata": {
  "kernelspec": {
   "display_name": "Python 3 (ipykernel)",
   "language": "python",
   "name": "python3"
  },
  "language_info": {
   "codemirror_mode": {
    "name": "ipython",
    "version": 3
   },
   "file_extension": ".py",
   "mimetype": "text/x-python",
   "name": "python",
   "nbconvert_exporter": "python",
   "pygments_lexer": "ipython3",
   "version": "3.9.5"
  }
 },
 "nbformat": 4,
 "nbformat_minor": 5
}
